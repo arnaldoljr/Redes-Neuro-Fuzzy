{
 "cells": [
  {
   "cell_type": "markdown",
   "metadata": {},
   "source": [
    "## Testes Biblioteca \"frbs\""
   ]
  },
  {
   "cell_type": "code",
   "execution_count": null,
   "metadata": {},
   "outputs": [],
   "source": [
    "install.packages(\"frbs\") #rodar somente uma vez"
   ]
  },
  {
   "cell_type": "code",
   "execution_count": 1,
   "metadata": {
    "collapsed": true
   },
   "outputs": [],
   "source": [
    "library(frbs)#carregando as funções"
   ]
  },
  {
   "cell_type": "code",
   "execution_count": null,
   "metadata": {},
   "outputs": [],
   "source": [
    "library(help=frbs) # documentação da biblioteca"
   ]
  },
  {
   "cell_type": "markdown",
   "metadata": {},
   "source": [
    "### Exemplo 1 -  Simulando Regressão"
   ]
  },
  {
   "cell_type": "markdown",
   "metadata": {},
   "source": [
    "Prevendo um output baseado com o input de uma função"
   ]
  },
  {
   "cell_type": "markdown",
   "metadata": {},
   "source": [
    "2 variáveis de input $x \\in [-2,2]$ e  $y \\in [-2,2]$\n"
   ]
  },
  {
   "cell_type": "markdown",
   "metadata": {},
   "source": [
    "$$ f(x,y) = \\frac{1}{x^{4} + y^{4} -2x^{2} - 2y^{2} +3 } $$"
   ]
  },
  {
   "cell_type": "code",
   "execution_count": 2,
   "metadata": {
    "collapsed": true
   },
   "outputs": [],
   "source": [
    "fun <- function(input.xy){ z <- 1/(input.xy[1]^4+input.xy[2]^4 -2*input.xy[1]^2-2*input.xy[2]^2+3)}"
   ]
  },
  {
   "cell_type": "code",
   "execution_count": 3,
   "metadata": {},
   "outputs": [
    {
     "data": {
      "text/html": [
       "<pre class=language-r><code>function (input.xy) \n",
       "{\n",
       "<span style=white-space:pre-wrap>    z &lt;- 1/(input.xy[1]^4 + input.xy[2]^4 - 2 * input.xy[1]^2 - </span>\n",
       "<span style=white-space:pre-wrap>        2 * input.xy[2]^2 + 3)</span>\n",
       "}</code></pre>"
      ],
      "text/latex": [
       "\\begin{minted}{r}\n",
       "function (input.xy) \n",
       "\\{\n",
       "    z <- 1/(input.xy{[}1{]}\\textasciicircum{}4 + input.xy{[}2{]}\\textasciicircum{}4 - 2 * input.xy{[}1{]}\\textasciicircum{}2 - \n",
       "        2 * input.xy{[}2{]}\\textasciicircum{}2 + 3)\n",
       "\\}\n",
       "\\end{minted}"
      ],
      "text/markdown": [
       "```r\n",
       "function (input.xy) \n",
       "{\n",
       "    z <- 1/(input.xy[1]^4 + input.xy[2]^4 - 2 * input.xy[1]^2 - \n",
       "        2 * input.xy[2]^2 + 3)\n",
       "}\n",
       "```"
      ],
      "text/plain": [
       "function(input.xy){ z <- 1/(input.xy[1]^4+input.xy[2]^4 -2*input.xy[1]^2-2*input.xy[2]^2+3)}"
      ]
     },
     "metadata": {},
     "output_type": "display_data"
    }
   ],
   "source": [
    "fun"
   ]
  },
  {
   "cell_type": "code",
   "execution_count": 4,
   "metadata": {
    "collapsed": true
   },
   "outputs": [],
   "source": [
    "input.xy <- expand.grid(seq(-2, 2, by = 0.14),\n",
    "    + seq(-2, 2, by = 0.14))"
   ]
  },
  {
   "cell_type": "code",
   "execution_count": 5,
   "metadata": {},
   "outputs": [
    {
     "data": {
      "text/html": [
       "<table>\n",
       "<thead><tr><th scope=col>Var1</th><th scope=col>Var2</th></tr></thead>\n",
       "<tbody>\n",
       "\t<tr><td>-2.00</td><td>-2   </td></tr>\n",
       "\t<tr><td>-1.86</td><td>-2   </td></tr>\n",
       "\t<tr><td>-1.72</td><td>-2   </td></tr>\n",
       "\t<tr><td>-1.58</td><td>-2   </td></tr>\n",
       "\t<tr><td>-1.44</td><td>-2   </td></tr>\n",
       "\t<tr><td>-1.30</td><td>-2   </td></tr>\n",
       "\t<tr><td>-1.16</td><td>-2   </td></tr>\n",
       "\t<tr><td>-1.02</td><td>-2   </td></tr>\n",
       "\t<tr><td>-0.88</td><td>-2   </td></tr>\n",
       "\t<tr><td>-0.74</td><td>-2   </td></tr>\n",
       "\t<tr><td>-0.60</td><td>-2   </td></tr>\n",
       "\t<tr><td>-0.46</td><td>-2   </td></tr>\n",
       "\t<tr><td>-0.32</td><td>-2   </td></tr>\n",
       "\t<tr><td>-0.18</td><td>-2   </td></tr>\n",
       "\t<tr><td>-0.04</td><td>-2   </td></tr>\n",
       "</tbody>\n",
       "</table>\n"
      ],
      "text/latex": [
       "\\begin{tabular}{r|ll}\n",
       " Var1 & Var2\\\\\n",
       "\\hline\n",
       "\t -2.00 & -2   \\\\\n",
       "\t -1.86 & -2   \\\\\n",
       "\t -1.72 & -2   \\\\\n",
       "\t -1.58 & -2   \\\\\n",
       "\t -1.44 & -2   \\\\\n",
       "\t -1.30 & -2   \\\\\n",
       "\t -1.16 & -2   \\\\\n",
       "\t -1.02 & -2   \\\\\n",
       "\t -0.88 & -2   \\\\\n",
       "\t -0.74 & -2   \\\\\n",
       "\t -0.60 & -2   \\\\\n",
       "\t -0.46 & -2   \\\\\n",
       "\t -0.32 & -2   \\\\\n",
       "\t -0.18 & -2   \\\\\n",
       "\t -0.04 & -2   \\\\\n",
       "\\end{tabular}\n"
      ],
      "text/markdown": [
       "\n",
       "Var1 | Var2 | \n",
       "|---|---|---|---|---|---|---|---|---|---|---|---|---|---|---|\n",
       "| -2.00 | -2    | \n",
       "| -1.86 | -2    | \n",
       "| -1.72 | -2    | \n",
       "| -1.58 | -2    | \n",
       "| -1.44 | -2    | \n",
       "| -1.30 | -2    | \n",
       "| -1.16 | -2    | \n",
       "| -1.02 | -2    | \n",
       "| -0.88 | -2    | \n",
       "| -0.74 | -2    | \n",
       "| -0.60 | -2    | \n",
       "| -0.46 | -2    | \n",
       "| -0.32 | -2    | \n",
       "| -0.18 | -2    | \n",
       "| -0.04 | -2    | \n",
       "\n",
       "\n"
      ],
      "text/plain": [
       "   Var1  Var2\n",
       "1  -2.00 -2  \n",
       "2  -1.86 -2  \n",
       "3  -1.72 -2  \n",
       "4  -1.58 -2  \n",
       "5  -1.44 -2  \n",
       "6  -1.30 -2  \n",
       "7  -1.16 -2  \n",
       "8  -1.02 -2  \n",
       "9  -0.88 -2  \n",
       "10 -0.74 -2  \n",
       "11 -0.60 -2  \n",
       "12 -0.46 -2  \n",
       "13 -0.32 -2  \n",
       "14 -0.18 -2  \n",
       "15 -0.04 -2  "
      ]
     },
     "metadata": {},
     "output_type": "display_data"
    }
   ],
   "source": [
    "head(input.xy,15)"
   ]
  },
  {
   "cell_type": "markdown",
   "metadata": {},
   "source": [
    "obs - função apply \n",
    "* X is an array or matrix;\n",
    "* MARGIN is a variable that determines whether the function is applied over rows (MARGIN=1), columns (MARGIN=2), or both (MARGIN=c(1,2));\n",
    "* FUN is the function to be applied.\n"
   ]
  },
  {
   "cell_type": "code",
   "execution_count": 8,
   "metadata": {
    "collapsed": true
   },
   "outputs": [],
   "source": [
    "#parâmetro 1...aplica sobre as linhas da matriz a função fun\n",
    "z<- apply(input.xy, 1, fun)"
   ]
  },
  {
   "cell_type": "code",
   "execution_count": 9,
   "metadata": {},
   "outputs": [
    {
     "data": {
      "text/html": [
       "<ol class=list-inline>\n",
       "\t<li>0.0526315789473684</li>\n",
       "\t<li>0.062306723919335</li>\n",
       "\t<li>0.0722787211814909</li>\n",
       "\t<li>0.0817046000644146</li>\n",
       "\t<li>0.0896650538242819</li>\n",
       "\t<li>0.0954553698418305</li>\n",
       "\t<li>0.0988197037824831</li>\n",
       "\t<li>0.0999836810635115</li>\n",
       "\t<li>0.0994936236208114</li>\n",
       "\t<li>0.0979943903620808</li>\n",
       "\t<li>0.096065170611743</li>\n",
       "\t<li>0.0941479998423134</li>\n",
       "\t<li>0.092543872014283</li>\n",
       "\t<li>0.0914390236091316</li>\n",
       "\t<li>0.0909355237164502</li>\n",
       "</ol>\n"
      ],
      "text/latex": [
       "\\begin{enumerate*}\n",
       "\\item 0.0526315789473684\n",
       "\\item 0.062306723919335\n",
       "\\item 0.0722787211814909\n",
       "\\item 0.0817046000644146\n",
       "\\item 0.0896650538242819\n",
       "\\item 0.0954553698418305\n",
       "\\item 0.0988197037824831\n",
       "\\item 0.0999836810635115\n",
       "\\item 0.0994936236208114\n",
       "\\item 0.0979943903620808\n",
       "\\item 0.096065170611743\n",
       "\\item 0.0941479998423134\n",
       "\\item 0.092543872014283\n",
       "\\item 0.0914390236091316\n",
       "\\item 0.0909355237164502\n",
       "\\end{enumerate*}\n"
      ],
      "text/markdown": [
       "1. 0.0526315789473684\n",
       "2. 0.062306723919335\n",
       "3. 0.0722787211814909\n",
       "4. 0.0817046000644146\n",
       "5. 0.0896650538242819\n",
       "6. 0.0954553698418305\n",
       "7. 0.0988197037824831\n",
       "8. 0.0999836810635115\n",
       "9. 0.0994936236208114\n",
       "10. 0.0979943903620808\n",
       "11. 0.096065170611743\n",
       "12. 0.0941479998423134\n",
       "13. 0.092543872014283\n",
       "14. 0.0914390236091316\n",
       "15. 0.0909355237164502\n",
       "\n",
       "\n"
      ],
      "text/plain": [
       " [1] 0.05263158 0.06230672 0.07227872 0.08170460 0.08966505 0.09545537\n",
       " [7] 0.09881970 0.09998368 0.09949362 0.09799439 0.09606517 0.09414800\n",
       "[13] 0.09254387 0.09143902 0.09093552"
      ]
     },
     "metadata": {},
     "output_type": "display_data"
    }
   ],
   "source": [
    "head(z,15)"
   ]
  },
  {
   "cell_type": "code",
   "execution_count": 10,
   "metadata": {
    "collapsed": true
   },
   "outputs": [],
   "source": [
    "data <- cbind(input.xy, z)"
   ]
  },
  {
   "cell_type": "code",
   "execution_count": 11,
   "metadata": {},
   "outputs": [
    {
     "data": {
      "text/html": [
       "<table>\n",
       "<thead><tr><th scope=col>Var1</th><th scope=col>Var2</th><th scope=col>z</th></tr></thead>\n",
       "<tbody>\n",
       "\t<tr><td>-2.00     </td><td>-2        </td><td>0.05263158</td></tr>\n",
       "\t<tr><td>-1.86     </td><td>-2        </td><td>0.06230672</td></tr>\n",
       "\t<tr><td>-1.72     </td><td>-2        </td><td>0.07227872</td></tr>\n",
       "\t<tr><td>-1.58     </td><td>-2        </td><td>0.08170460</td></tr>\n",
       "\t<tr><td>-1.44     </td><td>-2        </td><td>0.08966505</td></tr>\n",
       "\t<tr><td>-1.30     </td><td>-2        </td><td>0.09545537</td></tr>\n",
       "\t<tr><td>-1.16     </td><td>-2        </td><td>0.09881970</td></tr>\n",
       "\t<tr><td>-1.02     </td><td>-2        </td><td>0.09998368</td></tr>\n",
       "\t<tr><td>-0.88     </td><td>-2        </td><td>0.09949362</td></tr>\n",
       "\t<tr><td>-0.74     </td><td>-2        </td><td>0.09799439</td></tr>\n",
       "\t<tr><td>-0.60     </td><td>-2        </td><td>0.09606517</td></tr>\n",
       "\t<tr><td>-0.46     </td><td>-2        </td><td>0.09414800</td></tr>\n",
       "\t<tr><td>-0.32     </td><td>-2        </td><td>0.09254387</td></tr>\n",
       "\t<tr><td>-0.18     </td><td>-2        </td><td>0.09143902</td></tr>\n",
       "\t<tr><td>-0.04     </td><td>-2        </td><td>0.09093552</td></tr>\n",
       "</tbody>\n",
       "</table>\n"
      ],
      "text/latex": [
       "\\begin{tabular}{r|lll}\n",
       " Var1 & Var2 & z\\\\\n",
       "\\hline\n",
       "\t -2.00      & -2         & 0.05263158\\\\\n",
       "\t -1.86      & -2         & 0.06230672\\\\\n",
       "\t -1.72      & -2         & 0.07227872\\\\\n",
       "\t -1.58      & -2         & 0.08170460\\\\\n",
       "\t -1.44      & -2         & 0.08966505\\\\\n",
       "\t -1.30      & -2         & 0.09545537\\\\\n",
       "\t -1.16      & -2         & 0.09881970\\\\\n",
       "\t -1.02      & -2         & 0.09998368\\\\\n",
       "\t -0.88      & -2         & 0.09949362\\\\\n",
       "\t -0.74      & -2         & 0.09799439\\\\\n",
       "\t -0.60      & -2         & 0.09606517\\\\\n",
       "\t -0.46      & -2         & 0.09414800\\\\\n",
       "\t -0.32      & -2         & 0.09254387\\\\\n",
       "\t -0.18      & -2         & 0.09143902\\\\\n",
       "\t -0.04      & -2         & 0.09093552\\\\\n",
       "\\end{tabular}\n"
      ],
      "text/markdown": [
       "\n",
       "Var1 | Var2 | z | \n",
       "|---|---|---|---|---|---|---|---|---|---|---|---|---|---|---|\n",
       "| -2.00      | -2         | 0.05263158 | \n",
       "| -1.86      | -2         | 0.06230672 | \n",
       "| -1.72      | -2         | 0.07227872 | \n",
       "| -1.58      | -2         | 0.08170460 | \n",
       "| -1.44      | -2         | 0.08966505 | \n",
       "| -1.30      | -2         | 0.09545537 | \n",
       "| -1.16      | -2         | 0.09881970 | \n",
       "| -1.02      | -2         | 0.09998368 | \n",
       "| -0.88      | -2         | 0.09949362 | \n",
       "| -0.74      | -2         | 0.09799439 | \n",
       "| -0.60      | -2         | 0.09606517 | \n",
       "| -0.46      | -2         | 0.09414800 | \n",
       "| -0.32      | -2         | 0.09254387 | \n",
       "| -0.18      | -2         | 0.09143902 | \n",
       "| -0.04      | -2         | 0.09093552 | \n",
       "\n",
       "\n"
      ],
      "text/plain": [
       "   Var1  Var2 z         \n",
       "1  -2.00 -2   0.05263158\n",
       "2  -1.86 -2   0.06230672\n",
       "3  -1.72 -2   0.07227872\n",
       "4  -1.58 -2   0.08170460\n",
       "5  -1.44 -2   0.08966505\n",
       "6  -1.30 -2   0.09545537\n",
       "7  -1.16 -2   0.09881970\n",
       "8  -1.02 -2   0.09998368\n",
       "9  -0.88 -2   0.09949362\n",
       "10 -0.74 -2   0.09799439\n",
       "11 -0.60 -2   0.09606517\n",
       "12 -0.46 -2   0.09414800\n",
       "13 -0.32 -2   0.09254387\n",
       "14 -0.18 -2   0.09143902\n",
       "15 -0.04 -2   0.09093552"
      ]
     },
     "metadata": {},
     "output_type": "display_data"
    }
   ],
   "source": [
    "head(data,15)"
   ]
  },
  {
   "cell_type": "code",
   "execution_count": 12,
   "metadata": {
    "collapsed": true
   },
   "outputs": [],
   "source": [
    "colnames(data)<- c(\"X\",\"Y\",\"Z\")"
   ]
  },
  {
   "cell_type": "code",
   "execution_count": 13,
   "metadata": {},
   "outputs": [
    {
     "data": {
      "text/html": [
       "<table>\n",
       "<thead><tr><th scope=col>X</th><th scope=col>Y</th><th scope=col>Z</th></tr></thead>\n",
       "<tbody>\n",
       "\t<tr><td>-2.00     </td><td>-2        </td><td>0.05263158</td></tr>\n",
       "\t<tr><td>-1.86     </td><td>-2        </td><td>0.06230672</td></tr>\n",
       "\t<tr><td>-1.72     </td><td>-2        </td><td>0.07227872</td></tr>\n",
       "\t<tr><td>-1.58     </td><td>-2        </td><td>0.08170460</td></tr>\n",
       "\t<tr><td>-1.44     </td><td>-2        </td><td>0.08966505</td></tr>\n",
       "</tbody>\n",
       "</table>\n"
      ],
      "text/latex": [
       "\\begin{tabular}{r|lll}\n",
       " X & Y & Z\\\\\n",
       "\\hline\n",
       "\t -2.00      & -2         & 0.05263158\\\\\n",
       "\t -1.86      & -2         & 0.06230672\\\\\n",
       "\t -1.72      & -2         & 0.07227872\\\\\n",
       "\t -1.58      & -2         & 0.08170460\\\\\n",
       "\t -1.44      & -2         & 0.08966505\\\\\n",
       "\\end{tabular}\n"
      ],
      "text/markdown": [
       "\n",
       "X | Y | Z | \n",
       "|---|---|---|---|---|\n",
       "| -2.00      | -2         | 0.05263158 | \n",
       "| -1.86      | -2         | 0.06230672 | \n",
       "| -1.72      | -2         | 0.07227872 | \n",
       "| -1.58      | -2         | 0.08170460 | \n",
       "| -1.44      | -2         | 0.08966505 | \n",
       "\n",
       "\n"
      ],
      "text/plain": [
       "  X     Y  Z         \n",
       "1 -2.00 -2 0.05263158\n",
       "2 -1.86 -2 0.06230672\n",
       "3 -1.72 -2 0.07227872\n",
       "4 -1.58 -2 0.08170460\n",
       "5 -1.44 -2 0.08966505"
      ]
     },
     "metadata": {},
     "output_type": "display_data"
    }
   ],
   "source": [
    "head(data,5)"
   ]
  },
  {
   "cell_type": "code",
   "execution_count": 14,
   "metadata": {},
   "outputs": [
    {
     "data": {
      "text/html": [
       "<ol class=list-inline>\n",
       "\t<li>841</li>\n",
       "\t<li>3</li>\n",
       "</ol>\n"
      ],
      "text/latex": [
       "\\begin{enumerate*}\n",
       "\\item 841\n",
       "\\item 3\n",
       "\\end{enumerate*}\n"
      ],
      "text/markdown": [
       "1. 841\n",
       "2. 3\n",
       "\n",
       "\n"
      ],
      "text/plain": [
       "[1] 841   3"
      ]
     },
     "metadata": {},
     "output_type": "display_data"
    }
   ],
   "source": [
    "dim(data)"
   ]
  },
  {
   "cell_type": "code",
   "execution_count": 15,
   "metadata": {
    "collapsed": true
   },
   "outputs": [],
   "source": [
    "cut.indx <- round(0.8*nrow(data))"
   ]
  },
  {
   "cell_type": "code",
   "execution_count": 17,
   "metadata": {},
   "outputs": [
    {
     "data": {
      "text/html": [
       "673"
      ],
      "text/latex": [
       "673"
      ],
      "text/markdown": [
       "673"
      ],
      "text/plain": [
       "[1] 673"
      ]
     },
     "metadata": {},
     "output_type": "display_data"
    }
   ],
   "source": [
    "cut.indx"
   ]
  },
  {
   "cell_type": "code",
   "execution_count": 18,
   "metadata": {
    "collapsed": true
   },
   "outputs": [],
   "source": [
    "#definindo os dados de treino\n",
    "data.tra <- data[1:cut.indx,]"
   ]
  },
  {
   "cell_type": "code",
   "execution_count": 19,
   "metadata": {},
   "outputs": [
    {
     "data": {
      "text/html": [
       "<table>\n",
       "<thead><tr><th scope=col>X</th><th scope=col>Y</th><th scope=col>Z</th></tr></thead>\n",
       "<tbody>\n",
       "\t<tr><td>-2.00     </td><td>-2        </td><td>0.05263158</td></tr>\n",
       "\t<tr><td>-1.86     </td><td>-2        </td><td>0.06230672</td></tr>\n",
       "\t<tr><td>-1.72     </td><td>-2        </td><td>0.07227872</td></tr>\n",
       "\t<tr><td>-1.58     </td><td>-2        </td><td>0.08170460</td></tr>\n",
       "\t<tr><td>-1.44     </td><td>-2        </td><td>0.08966505</td></tr>\n",
       "\t<tr><td>-1.30     </td><td>-2        </td><td>0.09545537</td></tr>\n",
       "\t<tr><td>-1.16     </td><td>-2        </td><td>0.09881970</td></tr>\n",
       "\t<tr><td>-1.02     </td><td>-2        </td><td>0.09998368</td></tr>\n",
       "\t<tr><td>-0.88     </td><td>-2        </td><td>0.09949362</td></tr>\n",
       "\t<tr><td>-0.74     </td><td>-2        </td><td>0.09799439</td></tr>\n",
       "\t<tr><td>-0.60     </td><td>-2        </td><td>0.09606517</td></tr>\n",
       "\t<tr><td>-0.46     </td><td>-2        </td><td>0.09414800</td></tr>\n",
       "\t<tr><td>-0.32     </td><td>-2        </td><td>0.09254387</td></tr>\n",
       "\t<tr><td>-0.18     </td><td>-2        </td><td>0.09143902</td></tr>\n",
       "\t<tr><td>-0.04     </td><td>-2        </td><td>0.09093552</td></tr>\n",
       "</tbody>\n",
       "</table>\n"
      ],
      "text/latex": [
       "\\begin{tabular}{r|lll}\n",
       " X & Y & Z\\\\\n",
       "\\hline\n",
       "\t -2.00      & -2         & 0.05263158\\\\\n",
       "\t -1.86      & -2         & 0.06230672\\\\\n",
       "\t -1.72      & -2         & 0.07227872\\\\\n",
       "\t -1.58      & -2         & 0.08170460\\\\\n",
       "\t -1.44      & -2         & 0.08966505\\\\\n",
       "\t -1.30      & -2         & 0.09545537\\\\\n",
       "\t -1.16      & -2         & 0.09881970\\\\\n",
       "\t -1.02      & -2         & 0.09998368\\\\\n",
       "\t -0.88      & -2         & 0.09949362\\\\\n",
       "\t -0.74      & -2         & 0.09799439\\\\\n",
       "\t -0.60      & -2         & 0.09606517\\\\\n",
       "\t -0.46      & -2         & 0.09414800\\\\\n",
       "\t -0.32      & -2         & 0.09254387\\\\\n",
       "\t -0.18      & -2         & 0.09143902\\\\\n",
       "\t -0.04      & -2         & 0.09093552\\\\\n",
       "\\end{tabular}\n"
      ],
      "text/markdown": [
       "\n",
       "X | Y | Z | \n",
       "|---|---|---|---|---|---|---|---|---|---|---|---|---|---|---|\n",
       "| -2.00      | -2         | 0.05263158 | \n",
       "| -1.86      | -2         | 0.06230672 | \n",
       "| -1.72      | -2         | 0.07227872 | \n",
       "| -1.58      | -2         | 0.08170460 | \n",
       "| -1.44      | -2         | 0.08966505 | \n",
       "| -1.30      | -2         | 0.09545537 | \n",
       "| -1.16      | -2         | 0.09881970 | \n",
       "| -1.02      | -2         | 0.09998368 | \n",
       "| -0.88      | -2         | 0.09949362 | \n",
       "| -0.74      | -2         | 0.09799439 | \n",
       "| -0.60      | -2         | 0.09606517 | \n",
       "| -0.46      | -2         | 0.09414800 | \n",
       "| -0.32      | -2         | 0.09254387 | \n",
       "| -0.18      | -2         | 0.09143902 | \n",
       "| -0.04      | -2         | 0.09093552 | \n",
       "\n",
       "\n"
      ],
      "text/plain": [
       "   X     Y  Z         \n",
       "1  -2.00 -2 0.05263158\n",
       "2  -1.86 -2 0.06230672\n",
       "3  -1.72 -2 0.07227872\n",
       "4  -1.58 -2 0.08170460\n",
       "5  -1.44 -2 0.08966505\n",
       "6  -1.30 -2 0.09545537\n",
       "7  -1.16 -2 0.09881970\n",
       "8  -1.02 -2 0.09998368\n",
       "9  -0.88 -2 0.09949362\n",
       "10 -0.74 -2 0.09799439\n",
       "11 -0.60 -2 0.09606517\n",
       "12 -0.46 -2 0.09414800\n",
       "13 -0.32 -2 0.09254387\n",
       "14 -0.18 -2 0.09143902\n",
       "15 -0.04 -2 0.09093552"
      ]
     },
     "metadata": {},
     "output_type": "display_data"
    }
   ],
   "source": [
    "head(data.tra,15) #treino"
   ]
  },
  {
   "cell_type": "code",
   "execution_count": 20,
   "metadata": {},
   "outputs": [
    {
     "data": {
      "text/html": [
       "<ol class=list-inline>\n",
       "\t<li>673</li>\n",
       "\t<li>3</li>\n",
       "</ol>\n"
      ],
      "text/latex": [
       "\\begin{enumerate*}\n",
       "\\item 673\n",
       "\\item 3\n",
       "\\end{enumerate*}\n"
      ],
      "text/markdown": [
       "1. 673\n",
       "2. 3\n",
       "\n",
       "\n"
      ],
      "text/plain": [
       "[1] 673   3"
      ]
     },
     "metadata": {},
     "output_type": "display_data"
    }
   ],
   "source": [
    "dim(data.tra)"
   ]
  },
  {
   "cell_type": "code",
   "execution_count": 21,
   "metadata": {
    "collapsed": true
   },
   "outputs": [],
   "source": [
    "data.tst <- data[(cut.indx+1):nrow(data),1:2]#dados para teste"
   ]
  },
  {
   "cell_type": "code",
   "execution_count": 22,
   "metadata": {},
   "outputs": [
    {
     "data": {
      "text/html": [
       "<table>\n",
       "<thead><tr><th></th><th scope=col>X</th><th scope=col>Y</th></tr></thead>\n",
       "<tbody>\n",
       "\t<tr><th scope=row>674</th><td>-1.16</td><td>1.22 </td></tr>\n",
       "\t<tr><th scope=row>675</th><td>-1.02</td><td>1.22 </td></tr>\n",
       "\t<tr><th scope=row>676</th><td>-0.88</td><td>1.22 </td></tr>\n",
       "\t<tr><th scope=row>677</th><td>-0.74</td><td>1.22 </td></tr>\n",
       "\t<tr><th scope=row>678</th><td>-0.60</td><td>1.22 </td></tr>\n",
       "\t<tr><th scope=row>679</th><td>-0.46</td><td>1.22 </td></tr>\n",
       "\t<tr><th scope=row>680</th><td>-0.32</td><td>1.22 </td></tr>\n",
       "\t<tr><th scope=row>681</th><td>-0.18</td><td>1.22 </td></tr>\n",
       "\t<tr><th scope=row>682</th><td>-0.04</td><td>1.22 </td></tr>\n",
       "\t<tr><th scope=row>683</th><td> 0.10</td><td>1.22 </td></tr>\n",
       "\t<tr><th scope=row>684</th><td> 0.24</td><td>1.22 </td></tr>\n",
       "\t<tr><th scope=row>685</th><td> 0.38</td><td>1.22 </td></tr>\n",
       "\t<tr><th scope=row>686</th><td> 0.52</td><td>1.22 </td></tr>\n",
       "\t<tr><th scope=row>687</th><td> 0.66</td><td>1.22 </td></tr>\n",
       "\t<tr><th scope=row>688</th><td> 0.80</td><td>1.22 </td></tr>\n",
       "</tbody>\n",
       "</table>\n"
      ],
      "text/latex": [
       "\\begin{tabular}{r|ll}\n",
       "  & X & Y\\\\\n",
       "\\hline\n",
       "\t674 & -1.16 & 1.22 \\\\\n",
       "\t675 & -1.02 & 1.22 \\\\\n",
       "\t676 & -0.88 & 1.22 \\\\\n",
       "\t677 & -0.74 & 1.22 \\\\\n",
       "\t678 & -0.60 & 1.22 \\\\\n",
       "\t679 & -0.46 & 1.22 \\\\\n",
       "\t680 & -0.32 & 1.22 \\\\\n",
       "\t681 & -0.18 & 1.22 \\\\\n",
       "\t682 & -0.04 & 1.22 \\\\\n",
       "\t683 &  0.10 & 1.22 \\\\\n",
       "\t684 &  0.24 & 1.22 \\\\\n",
       "\t685 &  0.38 & 1.22 \\\\\n",
       "\t686 &  0.52 & 1.22 \\\\\n",
       "\t687 &  0.66 & 1.22 \\\\\n",
       "\t688 &  0.80 & 1.22 \\\\\n",
       "\\end{tabular}\n"
      ],
      "text/markdown": [
       "\n",
       "| <!--/--> | X | Y | \n",
       "|---|---|---|---|---|---|---|---|---|---|---|---|---|---|---|\n",
       "| 674 | -1.16 | 1.22  | \n",
       "| 675 | -1.02 | 1.22  | \n",
       "| 676 | -0.88 | 1.22  | \n",
       "| 677 | -0.74 | 1.22  | \n",
       "| 678 | -0.60 | 1.22  | \n",
       "| 679 | -0.46 | 1.22  | \n",
       "| 680 | -0.32 | 1.22  | \n",
       "| 681 | -0.18 | 1.22  | \n",
       "| 682 | -0.04 | 1.22  | \n",
       "| 683 |  0.10 | 1.22  | \n",
       "| 684 |  0.24 | 1.22  | \n",
       "| 685 |  0.38 | 1.22  | \n",
       "| 686 |  0.52 | 1.22  | \n",
       "| 687 |  0.66 | 1.22  | \n",
       "| 688 |  0.80 | 1.22  | \n",
       "\n",
       "\n"
      ],
      "text/plain": [
       "    X     Y   \n",
       "674 -1.16 1.22\n",
       "675 -1.02 1.22\n",
       "676 -0.88 1.22\n",
       "677 -0.74 1.22\n",
       "678 -0.60 1.22\n",
       "679 -0.46 1.22\n",
       "680 -0.32 1.22\n",
       "681 -0.18 1.22\n",
       "682 -0.04 1.22\n",
       "683  0.10 1.22\n",
       "684  0.24 1.22\n",
       "685  0.38 1.22\n",
       "686  0.52 1.22\n",
       "687  0.66 1.22\n",
       "688  0.80 1.22"
      ]
     },
     "metadata": {},
     "output_type": "display_data"
    }
   ],
   "source": [
    "head(data.tst,15)"
   ]
  },
  {
   "cell_type": "code",
   "execution_count": 23,
   "metadata": {},
   "outputs": [
    {
     "data": {
      "text/html": [
       "<ol class=list-inline>\n",
       "\t<li>168</li>\n",
       "\t<li>2</li>\n",
       "</ol>\n"
      ],
      "text/latex": [
       "\\begin{enumerate*}\n",
       "\\item 168\n",
       "\\item 2\n",
       "\\end{enumerate*}\n"
      ],
      "text/markdown": [
       "1. 168\n",
       "2. 2\n",
       "\n",
       "\n"
      ],
      "text/plain": [
       "[1] 168   2"
      ]
     },
     "metadata": {},
     "output_type": "display_data"
    }
   ],
   "source": [
    "dim(data.tst)"
   ]
  },
  {
   "cell_type": "code",
   "execution_count": 24,
   "metadata": {
    "collapsed": true
   },
   "outputs": [],
   "source": [
    "real.val <- data[(cut.indx+1):nrow(data),3,drop=FALSE] #dados para avaliar a acurácia r/"
   ]
  },
  {
   "cell_type": "code",
   "execution_count": 25,
   "metadata": {},
   "outputs": [
    {
     "data": {
      "text/html": [
       "<table>\n",
       "<thead><tr><th></th><th scope=col>Z</th></tr></thead>\n",
       "<tbody>\n",
       "\t<tr><th scope=row>674</th><td>0.7363912</td></tr>\n",
       "\t<tr><th scope=row>675</th><td>0.8063432</td></tr>\n",
       "\t<tr><th scope=row>676</th><td>0.7755365</td></tr>\n",
       "\t<tr><th scope=row>677</th><td>0.6929045</td></tr>\n",
       "\t<tr><th scope=row>678</th><td>0.6067466</td></tr>\n",
       "\t<tr><th scope=row>679</th><td>0.5376029</td></tr>\n",
       "\t<tr><th scope=row>680</th><td>0.4891841</td></tr>\n",
       "\t<tr><th scope=row>681</th><td>0.4598157</td></tr>\n",
       "\t<tr><th scope=row>682</th><td>0.4473598</td></tr>\n",
       "\t<tr><th scope=row>683</th><td>0.4507277</td></tr>\n",
       "\t<tr><th scope=row>684</th><td>0.4702226</td></tr>\n",
       "\t<tr><th scope=row>685</th><td>0.5074633</td></tr>\n",
       "\t<tr><th scope=row>686</th><td>0.5647003</td></tr>\n",
       "\t<tr><th scope=row>687</th><td>0.6422270</td></tr>\n",
       "\t<tr><th scope=row>688</th><td>0.7309223</td></tr>\n",
       "</tbody>\n",
       "</table>\n"
      ],
      "text/latex": [
       "\\begin{tabular}{r|l}\n",
       "  & Z\\\\\n",
       "\\hline\n",
       "\t674 & 0.7363912\\\\\n",
       "\t675 & 0.8063432\\\\\n",
       "\t676 & 0.7755365\\\\\n",
       "\t677 & 0.6929045\\\\\n",
       "\t678 & 0.6067466\\\\\n",
       "\t679 & 0.5376029\\\\\n",
       "\t680 & 0.4891841\\\\\n",
       "\t681 & 0.4598157\\\\\n",
       "\t682 & 0.4473598\\\\\n",
       "\t683 & 0.4507277\\\\\n",
       "\t684 & 0.4702226\\\\\n",
       "\t685 & 0.5074633\\\\\n",
       "\t686 & 0.5647003\\\\\n",
       "\t687 & 0.6422270\\\\\n",
       "\t688 & 0.7309223\\\\\n",
       "\\end{tabular}\n"
      ],
      "text/markdown": [
       "\n",
       "| <!--/--> | Z | \n",
       "|---|---|---|---|---|---|---|---|---|---|---|---|---|---|---|\n",
       "| 674 | 0.7363912 | \n",
       "| 675 | 0.8063432 | \n",
       "| 676 | 0.7755365 | \n",
       "| 677 | 0.6929045 | \n",
       "| 678 | 0.6067466 | \n",
       "| 679 | 0.5376029 | \n",
       "| 680 | 0.4891841 | \n",
       "| 681 | 0.4598157 | \n",
       "| 682 | 0.4473598 | \n",
       "| 683 | 0.4507277 | \n",
       "| 684 | 0.4702226 | \n",
       "| 685 | 0.5074633 | \n",
       "| 686 | 0.5647003 | \n",
       "| 687 | 0.6422270 | \n",
       "| 688 | 0.7309223 | \n",
       "\n",
       "\n"
      ],
      "text/plain": [
       "    Z        \n",
       "674 0.7363912\n",
       "675 0.8063432\n",
       "676 0.7755365\n",
       "677 0.6929045\n",
       "678 0.6067466\n",
       "679 0.5376029\n",
       "680 0.4891841\n",
       "681 0.4598157\n",
       "682 0.4473598\n",
       "683 0.4507277\n",
       "684 0.4702226\n",
       "685 0.5074633\n",
       "686 0.5647003\n",
       "687 0.6422270\n",
       "688 0.7309223"
      ]
     },
     "metadata": {},
     "output_type": "display_data"
    }
   ],
   "source": [
    "head(real.val,15)"
   ]
  },
  {
   "cell_type": "code",
   "execution_count": 27,
   "metadata": {},
   "outputs": [
    {
     "data": {
      "text/html": [
       "<ol class=list-inline>\n",
       "\t<li>168</li>\n",
       "\t<li>1</li>\n",
       "</ol>\n"
      ],
      "text/latex": [
       "\\begin{enumerate*}\n",
       "\\item 168\n",
       "\\item 1\n",
       "\\end{enumerate*}\n"
      ],
      "text/markdown": [
       "1. 168\n",
       "2. 1\n",
       "\n",
       "\n"
      ],
      "text/plain": [
       "[1] 168   1"
      ]
     },
     "metadata": {},
     "output_type": "display_data"
    }
   ],
   "source": [
    "dim(real.val)"
   ]
  },
  {
   "cell_type": "code",
   "execution_count": 28,
   "metadata": {
    "collapsed": true
   },
   "outputs": [],
   "source": [
    "range.data <- apply(data,2,range) #definir o piso e o teto"
   ]
  },
  {
   "cell_type": "code",
   "execution_count": 29,
   "metadata": {},
   "outputs": [
    {
     "data": {
      "text/html": [
       "<table>\n",
       "<thead><tr><th scope=col>X</th><th scope=col>Y</th><th scope=col>Z</th></tr></thead>\n",
       "<tbody>\n",
       "\t<tr><td>-2.00     </td><td>-2.00     </td><td>0.05263158</td></tr>\n",
       "\t<tr><td> 1.92     </td><td> 1.92     </td><td>0.99674630</td></tr>\n",
       "</tbody>\n",
       "</table>\n"
      ],
      "text/latex": [
       "\\begin{tabular}{lll}\n",
       " X & Y & Z\\\\\n",
       "\\hline\n",
       "\t -2.00      & -2.00      & 0.05263158\\\\\n",
       "\t  1.92      &  1.92      & 0.99674630\\\\\n",
       "\\end{tabular}\n"
      ],
      "text/markdown": [
       "\n",
       "X | Y | Z | \n",
       "|---|---|\n",
       "| -2.00      | -2.00      | 0.05263158 | \n",
       "|  1.92      |  1.92      | 0.99674630 | \n",
       "\n",
       "\n"
      ],
      "text/plain": [
       "     X     Y     Z         \n",
       "[1,] -2.00 -2.00 0.05263158\n",
       "[2,]  1.92  1.92 0.99674630"
      ]
     },
     "metadata": {},
     "output_type": "display_data"
    }
   ],
   "source": [
    "range.data"
   ]
  },
  {
   "cell_type": "code",
   "execution_count": 30,
   "metadata": {
    "collapsed": true
   },
   "outputs": [],
   "source": [
    "#agora settar os parâmetros para a aprendizagem\n",
    "method.type <- \"WM\" #Wand and Mendels method(\"WM\")\n"
   ]
  },
  {
   "cell_type": "code",
   "execution_count": 31,
   "metadata": {},
   "outputs": [
    {
     "data": {
      "text/html": [
       "'WM'"
      ],
      "text/latex": [
       "'WM'"
      ],
      "text/markdown": [
       "'WM'"
      ],
      "text/plain": [
       "[1] \"WM\""
      ]
     },
     "metadata": {},
     "output_type": "display_data"
    }
   ],
   "source": [
    "method.type"
   ]
  },
  {
   "cell_type": "code",
   "execution_count": 32,
   "metadata": {
    "collapsed": true
   },
   "outputs": [],
   "source": [
    "#fourhill é o nome da simulação #só possso definir um tipo de mf ?????\n",
    "control <- list(num.labels = 5,type.mf = \"GAUSSIAN\", type.defuz = \"COG\",type.tnorm = \"MIN\", type.snorm = \"MAX\",type.implication.func = \"LUKASIEWICZ\",name=\"fourhill\")"
   ]
  },
  {
   "cell_type": "code",
   "execution_count": 33,
   "metadata": {},
   "outputs": [
    {
     "data": {
      "text/html": [
       "<dl>\n",
       "\t<dt>$num.labels</dt>\n",
       "\t\t<dd>5</dd>\n",
       "\t<dt>$type.mf</dt>\n",
       "\t\t<dd>'GAUSSIAN'</dd>\n",
       "\t<dt>$type.defuz</dt>\n",
       "\t\t<dd>'COG'</dd>\n",
       "\t<dt>$type.tnorm</dt>\n",
       "\t\t<dd>'MIN'</dd>\n",
       "\t<dt>$type.snorm</dt>\n",
       "\t\t<dd>'MAX'</dd>\n",
       "\t<dt>$type.implication.func</dt>\n",
       "\t\t<dd>'LUKASIEWICZ'</dd>\n",
       "\t<dt>$name</dt>\n",
       "\t\t<dd>'fourhill'</dd>\n",
       "</dl>\n"
      ],
      "text/latex": [
       "\\begin{description}\n",
       "\\item[\\$num.labels] 5\n",
       "\\item[\\$type.mf] 'GAUSSIAN'\n",
       "\\item[\\$type.defuz] 'COG'\n",
       "\\item[\\$type.tnorm] 'MIN'\n",
       "\\item[\\$type.snorm] 'MAX'\n",
       "\\item[\\$type.implication.func] 'LUKASIEWICZ'\n",
       "\\item[\\$name] 'fourhill'\n",
       "\\end{description}\n"
      ],
      "text/markdown": [
       "$num.labels\n",
       ":   5\n",
       "$type.mf\n",
       ":   'GAUSSIAN'\n",
       "$type.defuz\n",
       ":   'COG'\n",
       "$type.tnorm\n",
       ":   'MIN'\n",
       "$type.snorm\n",
       ":   'MAX'\n",
       "$type.implication.func\n",
       ":   'LUKASIEWICZ'\n",
       "$name\n",
       ":   'fourhill'\n",
       "\n",
       "\n"
      ],
      "text/plain": [
       "$num.labels\n",
       "[1] 5\n",
       "\n",
       "$type.mf\n",
       "[1] \"GAUSSIAN\"\n",
       "\n",
       "$type.defuz\n",
       "[1] \"COG\"\n",
       "\n",
       "$type.tnorm\n",
       "[1] \"MIN\"\n",
       "\n",
       "$type.snorm\n",
       "[1] \"MAX\"\n",
       "\n",
       "$type.implication.func\n",
       "[1] \"LUKASIEWICZ\"\n",
       "\n",
       "$name\n",
       "[1] \"fourhill\"\n"
      ]
     },
     "metadata": {},
     "output_type": "display_data"
    }
   ],
   "source": [
    "control"
   ]
  },
  {
   "cell_type": "markdown",
   "metadata": {},
   "source": [
    "Agora ele vai aplicar a aprendizagem em si \n",
    " * data.tra-- Dados de treino\n",
    " * range.data-- Intervalor de trabalho dos dados \n",
    " * method.type -- o tipo de métodos WM \n",
    " * control -- os parâmetros do conjunto fuzzy em si"
   ]
  },
  {
   "cell_type": "code",
   "execution_count": 35,
   "metadata": {
    "collapsed": true
   },
   "outputs": [],
   "source": [
    "mod.reg <-frbs.learn(data.tra,range.data,method.type,control)"
   ]
  },
  {
   "cell_type": "code",
   "execution_count": 36,
   "metadata": {},
   "outputs": [
    {
     "data": {
      "text/plain": [
       "$num.labels\n",
       "     [,1] [,2] [,3]\n",
       "[1,]    5    5    5\n",
       "\n",
       "$varout.mf\n",
       "     very.small  small medium  large very.large\n",
       "[1,]     5.0000 5.0000 5.0000 5.0000     5.0000\n",
       "[2,]     0.0000 0.2500 0.5000 0.7500     1.0000\n",
       "[3,]     0.0875 0.0875 0.0875 0.0875     0.0875\n",
       "[4,]         NA     NA     NA     NA         NA\n",
       "[5,]         NA     NA     NA     NA         NA\n",
       "\n",
       "$rule\n",
       "      [,1] [,2] [,3] [,4]         [,5]  [,6] [,7] [,8]         [,9]   [,10]\n",
       " [1,] \"IF\" \"X\"  \"is\" \"very.small\" \"and\" \"Y\"  \"is\" \"very.small\" \"THEN\" \"Z\"  \n",
       " [2,] \"IF\" \"X\"  \"is\" \"small\"      \"and\" \"Y\"  \"is\" \"very.small\" \"THEN\" \"Z\"  \n",
       " [3,] \"IF\" \"X\"  \"is\" \"medium\"     \"and\" \"Y\"  \"is\" \"very.small\" \"THEN\" \"Z\"  \n",
       " [4,] \"IF\" \"X\"  \"is\" \"large\"      \"and\" \"Y\"  \"is\" \"very.small\" \"THEN\" \"Z\"  \n",
       " [5,] \"IF\" \"X\"  \"is\" \"very.large\" \"and\" \"Y\"  \"is\" \"very.small\" \"THEN\" \"Z\"  \n",
       " [6,] \"IF\" \"X\"  \"is\" \"small\"      \"and\" \"Y\"  \"is\" \"very.small\" \"THEN\" \"Z\"  \n",
       " [7,] \"IF\" \"X\"  \"is\" \"medium\"     \"and\" \"Y\"  \"is\" \"very.small\" \"THEN\" \"Z\"  \n",
       " [8,] \"IF\" \"X\"  \"is\" \"large\"      \"and\" \"Y\"  \"is\" \"very.small\" \"THEN\" \"Z\"  \n",
       " [9,] \"IF\" \"X\"  \"is\" \"very.large\" \"and\" \"Y\"  \"is\" \"very.small\" \"THEN\" \"Z\"  \n",
       "[10,] \"IF\" \"X\"  \"is\" \"very.small\" \"and\" \"Y\"  \"is\" \"small\"      \"THEN\" \"Z\"  \n",
       "[11,] \"IF\" \"X\"  \"is\" \"very.small\" \"and\" \"Y\"  \"is\" \"small\"      \"THEN\" \"Z\"  \n",
       "[12,] \"IF\" \"X\"  \"is\" \"small\"      \"and\" \"Y\"  \"is\" \"small\"      \"THEN\" \"Z\"  \n",
       "[13,] \"IF\" \"X\"  \"is\" \"small\"      \"and\" \"Y\"  \"is\" \"small\"      \"THEN\" \"Z\"  \n",
       "[14,] \"IF\" \"X\"  \"is\" \"medium\"     \"and\" \"Y\"  \"is\" \"small\"      \"THEN\" \"Z\"  \n",
       "[15,] \"IF\" \"X\"  \"is\" \"large\"      \"and\" \"Y\"  \"is\" \"small\"      \"THEN\" \"Z\"  \n",
       "[16,] \"IF\" \"X\"  \"is\" \"large\"      \"and\" \"Y\"  \"is\" \"small\"      \"THEN\" \"Z\"  \n",
       "[17,] \"IF\" \"X\"  \"is\" \"very.large\" \"and\" \"Y\"  \"is\" \"small\"      \"THEN\" \"Z\"  \n",
       "[18,] \"IF\" \"X\"  \"is\" \"very.large\" \"and\" \"Y\"  \"is\" \"small\"      \"THEN\" \"Z\"  \n",
       "[19,] \"IF\" \"X\"  \"is\" \"medium\"     \"and\" \"Y\"  \"is\" \"small\"      \"THEN\" \"Z\"  \n",
       "[20,] \"IF\" \"X\"  \"is\" \"small\"      \"and\" \"Y\"  \"is\" \"small\"      \"THEN\" \"Z\"  \n",
       "[21,] \"IF\" \"X\"  \"is\" \"large\"      \"and\" \"Y\"  \"is\" \"small\"      \"THEN\" \"Z\"  \n",
       "[22,] \"IF\" \"X\"  \"is\" \"small\"      \"and\" \"Y\"  \"is\" \"small\"      \"THEN\" \"Z\"  \n",
       "[23,] \"IF\" \"X\"  \"is\" \"large\"      \"and\" \"Y\"  \"is\" \"small\"      \"THEN\" \"Z\"  \n",
       "[24,] \"IF\" \"X\"  \"is\" \"very.small\" \"and\" \"Y\"  \"is\" \"medium\"     \"THEN\" \"Z\"  \n",
       "[25,] \"IF\" \"X\"  \"is\" \"very.small\" \"and\" \"Y\"  \"is\" \"medium\"     \"THEN\" \"Z\"  \n",
       "[26,] \"IF\" \"X\"  \"is\" \"small\"      \"and\" \"Y\"  \"is\" \"medium\"     \"THEN\" \"Z\"  \n",
       "[27,] \"IF\" \"X\"  \"is\" \"small\"      \"and\" \"Y\"  \"is\" \"medium\"     \"THEN\" \"Z\"  \n",
       "[28,] \"IF\" \"X\"  \"is\" \"medium\"     \"and\" \"Y\"  \"is\" \"medium\"     \"THEN\" \"Z\"  \n",
       "[29,] \"IF\" \"X\"  \"is\" \"medium\"     \"and\" \"Y\"  \"is\" \"medium\"     \"THEN\" \"Z\"  \n",
       "[30,] \"IF\" \"X\"  \"is\" \"large\"      \"and\" \"Y\"  \"is\" \"medium\"     \"THEN\" \"Z\"  \n",
       "[31,] \"IF\" \"X\"  \"is\" \"very.large\" \"and\" \"Y\"  \"is\" \"medium\"     \"THEN\" \"Z\"  \n",
       "[32,] \"IF\" \"X\"  \"is\" \"very.large\" \"and\" \"Y\"  \"is\" \"medium\"     \"THEN\" \"Z\"  \n",
       "[33,] \"IF\" \"X\"  \"is\" \"large\"      \"and\" \"Y\"  \"is\" \"medium\"     \"THEN\" \"Z\"  \n",
       "[34,] \"IF\" \"X\"  \"is\" \"very.small\" \"and\" \"Y\"  \"is\" \"large\"      \"THEN\" \"Z\"  \n",
       "[35,] \"IF\" \"X\"  \"is\" \"very.small\" \"and\" \"Y\"  \"is\" \"large\"      \"THEN\" \"Z\"  \n",
       "[36,] \"IF\" \"X\"  \"is\" \"small\"      \"and\" \"Y\"  \"is\" \"large\"      \"THEN\" \"Z\"  \n",
       "[37,] \"IF\" \"X\"  \"is\" \"small\"      \"and\" \"Y\"  \"is\" \"large\"      \"THEN\" \"Z\"  \n",
       "[38,] \"IF\" \"X\"  \"is\" \"medium\"     \"and\" \"Y\"  \"is\" \"large\"      \"THEN\" \"Z\"  \n",
       "[39,] \"IF\" \"X\"  \"is\" \"large\"      \"and\" \"Y\"  \"is\" \"large\"      \"THEN\" \"Z\"  \n",
       "[40,] \"IF\" \"X\"  \"is\" \"very.large\" \"and\" \"Y\"  \"is\" \"large\"      \"THEN\" \"Z\"  \n",
       "[41,] \"IF\" \"X\"  \"is\" \"very.large\" \"and\" \"Y\"  \"is\" \"large\"      \"THEN\" \"Z\"  \n",
       "[42,] \"IF\" \"X\"  \"is\" \"small\"      \"and\" \"Y\"  \"is\" \"large\"      \"THEN\" \"Z\"  \n",
       "[43,] \"IF\" \"X\"  \"is\" \"large\"      \"and\" \"Y\"  \"is\" \"large\"      \"THEN\" \"Z\"  \n",
       "[44,] \"IF\" \"X\"  \"is\" \"small\"      \"and\" \"Y\"  \"is\" \"large\"      \"THEN\" \"Z\"  \n",
       "[45,] \"IF\" \"X\"  \"is\" \"large\"      \"and\" \"Y\"  \"is\" \"large\"      \"THEN\" \"Z\"  \n",
       "[46,] \"IF\" \"X\"  \"is\" \"very.small\" \"and\" \"Y\"  \"is\" \"very.small\" \"THEN\" \"Z\"  \n",
       "[47,] \"IF\" \"X\"  \"is\" \"medium\"     \"and\" \"Y\"  \"is\" \"large\"      \"THEN\" \"Z\"  \n",
       "      [,11] [,12]       \n",
       " [1,] \"is\"  \"very.small\"\n",
       " [2,] \"is\"  \"very.small\"\n",
       " [3,] \"is\"  \"very.small\"\n",
       " [4,] \"is\"  \"very.small\"\n",
       " [5,] \"is\"  \"very.small\"\n",
       " [6,] \"is\"  \"small\"     \n",
       " [7,] \"is\"  \"small\"     \n",
       " [8,] \"is\"  \"small\"     \n",
       " [9,] \"is\"  \"small\"     \n",
       "[10,] \"is\"  \"very.small\"\n",
       "[11,] \"is\"  \"small\"     \n",
       "[12,] \"is\"  \"small\"     \n",
       "[13,] \"is\"  \"medium\"    \n",
       "[14,] \"is\"  \"small\"     \n",
       "[15,] \"is\"  \"small\"     \n",
       "[16,] \"is\"  \"medium\"    \n",
       "[17,] \"is\"  \"small\"     \n",
       "[18,] \"is\"  \"very.small\"\n",
       "[19,] \"is\"  \"medium\"    \n",
       "[20,] \"is\"  \"large\"     \n",
       "[21,] \"is\"  \"large\"     \n",
       "[22,] \"is\"  \"very.large\"\n",
       "[23,] \"is\"  \"very.large\"\n",
       "[24,] \"is\"  \"very.small\"\n",
       "[25,] \"is\"  \"small\"     \n",
       "[26,] \"is\"  \"small\"     \n",
       "[27,] \"is\"  \"medium\"    \n",
       "[28,] \"is\"  \"medium\"    \n",
       "[29,] \"is\"  \"small\"     \n",
       "[30,] \"is\"  \"medium\"    \n",
       "[31,] \"is\"  \"small\"     \n",
       "[32,] \"is\"  \"very.small\"\n",
       "[33,] \"is\"  \"small\"     \n",
       "[34,] \"is\"  \"very.small\"\n",
       "[35,] \"is\"  \"small\"     \n",
       "[36,] \"is\"  \"small\"     \n",
       "[37,] \"is\"  \"medium\"    \n",
       "[38,] \"is\"  \"medium\"    \n",
       "[39,] \"is\"  \"medium\"    \n",
       "[40,] \"is\"  \"small\"     \n",
       "[41,] \"is\"  \"very.small\"\n",
       "[42,] \"is\"  \"large\"     \n",
       "[43,] \"is\"  \"large\"     \n",
       "[44,] \"is\"  \"very.large\"\n",
       "[45,] \"is\"  \"very.large\"\n",
       "[46,] \"is\"  \"small\"     \n",
       "[47,] \"is\"  \"small\"     \n",
       "\n",
       "$varinp.mf\n",
       "     very.small  small medium  large very.large very.small  small medium  large\n",
       "[1,]     5.0000 5.0000 5.0000 5.0000     5.0000     5.0000 5.0000 5.0000 5.0000\n",
       "[2,]     0.0000 0.2500 0.5000 0.7500     1.0000     0.0000 0.2500 0.5000 0.7500\n",
       "[3,]     0.0875 0.0875 0.0875 0.0875     0.0875     0.0875 0.0875 0.0875 0.0875\n",
       "[4,]         NA     NA     NA     NA         NA         NA     NA     NA     NA\n",
       "[5,]         NA     NA     NA     NA         NA         NA     NA     NA     NA\n",
       "     very.large\n",
       "[1,]     5.0000\n",
       "[2,]     1.0000\n",
       "[3,]     0.0875\n",
       "[4,]         NA\n",
       "[5,]         NA\n",
       "\n",
       "$degree.ante\n",
       "               \n",
       " [1,] 1.0000000\n",
       " [2,] 0.4725141\n",
       " [3,] 0.4725141\n",
       " [4,] 0.4725141\n",
       " [5,] 0.4725141\n",
       " [6,] 0.4725141\n",
       " [7,] 0.4725141\n",
       " [8,] 0.4725141\n",
       " [9,] 0.4725141\n",
       "[10,] 0.4725141\n",
       "[11,] 0.4725141\n",
       "[12,] 0.4725141\n",
       "[13,] 0.4725141\n",
       "[14,] 0.4725141\n",
       "[15,] 0.4725141\n",
       "[16,] 0.4725141\n",
       "[17,] 0.4725141\n",
       "[18,] 0.4725141\n",
       "[19,] 0.4725141\n",
       "[20,] 0.7166308\n",
       "[21,] 0.7166308\n",
       "[22,] 1.0000000\n",
       "[23,] 0.9200763\n",
       "[24,] 0.4725141\n",
       "[25,] 0.4725141\n",
       "[26,] 0.4725141\n",
       "[27,] 0.4725141\n",
       "[28,] 0.4725141\n",
       "[29,] 0.4725141\n",
       "[30,] 0.4725141\n",
       "[31,] 0.4725141\n",
       "[32,] 0.4725141\n",
       "[33,] 0.4725141\n",
       "[34,] 0.4725141\n",
       "[35,] 0.4725141\n",
       "[36,] 0.4725141\n",
       "[37,] 0.4725141\n",
       "[38,] 0.4725141\n",
       "[39,] 0.4725141\n",
       "[40,] 0.4725141\n",
       "[41,] 0.4725141\n",
       "[42,] 0.7166308\n",
       "[43,] 0.7166308\n",
       "[44,] 0.9200763\n",
       "[45,] 0.9200763\n",
       "[46,] 0.4725141\n",
       "[47,] 0.4725141\n",
       "\n",
       "$rule.data.num\n",
       "      [,1] [,2] [,3]\n",
       " [1,]    1    6   11\n",
       " [2,]    2    6   11\n",
       " [3,]    3    6   11\n",
       " [4,]    4    6   11\n",
       " [5,]    5    6   11\n",
       " [6,]    2    6   12\n",
       " [7,]    3    6   12\n",
       " [8,]    4    6   12\n",
       " [9,]    5    6   12\n",
       "[10,]    1    7   11\n",
       "[11,]    1    7   12\n",
       "[12,]    2    7   12\n",
       "[13,]    2    7   13\n",
       "[14,]    3    7   12\n",
       "[15,]    4    7   12\n",
       "[16,]    4    7   13\n",
       "[17,]    5    7   12\n",
       "[18,]    5    7   11\n",
       "[19,]    3    7   13\n",
       "[20,]    2    7   14\n",
       "[21,]    4    7   14\n",
       "[22,]    2    7   15\n",
       "[23,]    4    7   15\n",
       "[24,]    1    8   11\n",
       "[25,]    1    8   12\n",
       "[26,]    2    8   12\n",
       "[27,]    2    8   13\n",
       "[28,]    3    8   13\n",
       "[29,]    3    8   12\n",
       "[30,]    4    8   13\n",
       "[31,]    5    8   12\n",
       "[32,]    5    8   11\n",
       "[33,]    4    8   12\n",
       "[34,]    1    9   11\n",
       "[35,]    1    9   12\n",
       "[36,]    2    9   12\n",
       "[37,]    2    9   13\n",
       "[38,]    3    9   13\n",
       "[39,]    4    9   13\n",
       "[40,]    5    9   12\n",
       "[41,]    5    9   11\n",
       "[42,]    2    9   14\n",
       "[43,]    4    9   14\n",
       "[44,]    2    9   15\n",
       "[45,]    4    9   15\n",
       "[46,]    1    6   12\n",
       "[47,]    3    9   12\n",
       "\n",
       "$degree.rule\n",
       "               \n",
       " [1,] 1.0000000\n",
       " [2,] 1.0000000\n",
       " [3,] 1.0000000\n",
       " [4,] 1.0000000\n",
       " [5,] 1.0000000\n",
       " [6,] 1.0000000\n",
       " [7,] 1.0000000\n",
       " [8,] 1.0000000\n",
       " [9,] 1.0000000\n",
       "[10,] 1.0000000\n",
       "[11,] 1.0000000\n",
       "[12,] 1.0000000\n",
       "[13,] 1.0000000\n",
       "[14,] 1.0000000\n",
       "[15,] 1.0000000\n",
       "[16,] 1.0000000\n",
       "[17,] 1.0000000\n",
       "[18,] 1.0000000\n",
       "[19,] 1.0000000\n",
       "[20,] 1.0000000\n",
       "[21,] 1.0000000\n",
       "[22,] 1.0000000\n",
       "[23,] 1.0000000\n",
       "[24,] 1.0000000\n",
       "[25,] 1.0000000\n",
       "[26,] 1.0000000\n",
       "[27,] 1.0000000\n",
       "[28,] 1.0000000\n",
       "[29,] 1.0000000\n",
       "[30,] 1.0000000\n",
       "[31,] 1.0000000\n",
       "[32,] 1.0000000\n",
       "[33,] 1.0000000\n",
       "[34,] 1.0000000\n",
       "[35,] 1.0000000\n",
       "[36,] 1.0000000\n",
       "[37,] 1.0000000\n",
       "[38,] 1.0000000\n",
       "[39,] 1.0000000\n",
       "[40,] 1.0000000\n",
       "[41,] 1.0000000\n",
       "[42,] 1.0000000\n",
       "[43,] 1.0000000\n",
       "[44,] 1.0000000\n",
       "[45,] 0.9876487\n",
       "[46,] 0.9656421\n",
       "[47,] 0.9615050\n",
       "\n",
       "$range.data.ori\n",
       "         X     Y          Z\n",
       "[1,] -2.00 -2.00 0.05263158\n",
       "[2,]  1.92  1.92 0.99674630\n",
       "\n",
       "$type.mf\n",
       "[1] \"GAUSSIAN\"\n",
       "\n",
       "$type.tnorm\n",
       "[1] \"MIN\"\n",
       "\n",
       "$type.implication.func\n",
       "[1] \"LUKASIEWICZ\"\n",
       "\n",
       "$type.model\n",
       "[1] \"MAMDANI\"\n",
       "\n",
       "$type.defuz\n",
       "[1] \"COG\"\n",
       "\n",
       "$type.snorm\n",
       "[1] \"MAX\"\n",
       "\n",
       "$method.type\n",
       "[1] \"WM\"\n",
       "\n",
       "$name\n",
       "[1] \"fourhill\"\n",
       "\n",
       "$colnames.var\n",
       "[1] \"X\" \"Y\" \"Z\"\n",
       "\n",
       "attr(,\"class\")\n",
       "[1] \"frbs\""
      ]
     },
     "metadata": {},
     "output_type": "display_data"
    }
   ],
   "source": [
    "mod.reg"
   ]
  },
  {
   "cell_type": "code",
   "execution_count": 37,
   "metadata": {},
   "outputs": [
    {
     "name": "stdout",
     "output_type": "stream",
     "text": [
      "The name of model:  fourhill \n",
      "Model was trained using:  WM \n",
      "The names of attributes:  X Y Z \n",
      "The interval of training data:  \n",
      "        X     Y          Z\n",
      "min -2.00 -2.00 0.05263158\n",
      "max  1.92  1.92 0.99674630\n",
      "Type of FRBS model: \n",
      "[1] \"MAMDANI\"\n",
      "Type of membership functions: \n",
      "[1] \"GAUSSIAN\"\n",
      "Type of t-norm method: \n",
      "[1] \"Standard t-norm (min)\"\n",
      "Type of s-norm method: \n",
      "[1] \"Standard s-norm\"\n",
      "Type of defuzzification technique: \n",
      "[1] \"modified COG\"\n",
      "Type of implication function: \n",
      "[1] \"LUKASIEWICZ\"\n",
      "The names of linguistic terms on the input variables:  \n",
      " [1] \"very.small\" \"small\"      \"medium\"     \"large\"      \"very.large\"\n",
      " [6] \"very.small\" \"small\"      \"medium\"     \"large\"      \"very.large\"\n",
      "The parameter values of membership function on the input variable (normalized):  \n",
      "     very.small  small medium  large very.large very.small  small medium  large\n",
      "[1,]     5.0000 5.0000 5.0000 5.0000     5.0000     5.0000 5.0000 5.0000 5.0000\n",
      "[2,]     0.0000 0.2500 0.5000 0.7500     1.0000     0.0000 0.2500 0.5000 0.7500\n",
      "[3,]     0.0875 0.0875 0.0875 0.0875     0.0875     0.0875 0.0875 0.0875 0.0875\n",
      "[4,]         NA     NA     NA     NA         NA         NA     NA     NA     NA\n",
      "[5,]         NA     NA     NA     NA         NA         NA     NA     NA     NA\n",
      "     very.large\n",
      "[1,]     5.0000\n",
      "[2,]     1.0000\n",
      "[3,]     0.0875\n",
      "[4,]         NA\n",
      "[5,]         NA\n",
      "The names of linguistic terms on the output variable:  \n",
      "[1] \"very.small\" \"small\"      \"medium\"     \"large\"      \"very.large\"\n",
      "The parameter values of membership function on the output variable (normalized):  \n",
      "     very.small  small medium  large very.large\n",
      "[1,]     5.0000 5.0000 5.0000 5.0000     5.0000\n",
      "[2,]     0.0000 0.2500 0.5000 0.7500     1.0000\n",
      "[3,]     0.0875 0.0875 0.0875 0.0875     0.0875\n",
      "[4,]         NA     NA     NA     NA         NA\n",
      "[5,]         NA     NA     NA     NA         NA\n",
      "The number of linguistic terms on each variables \n",
      "     X Y Z\n",
      "[1,] 5 5 5\n",
      "The fuzzy IF-THEN rules:  \n",
      "   V1 V2 V3         V4  V5 V6 V7         V8   V9 V10 V11        V12\n",
      "1  IF  X is very.small and  Y is very.small THEN   Z  is very.small\n",
      "2  IF  X is      small and  Y is very.small THEN   Z  is very.small\n",
      "3  IF  X is     medium and  Y is very.small THEN   Z  is very.small\n",
      "4  IF  X is      large and  Y is very.small THEN   Z  is very.small\n",
      "5  IF  X is very.large and  Y is very.small THEN   Z  is very.small\n",
      "6  IF  X is      small and  Y is very.small THEN   Z  is      small\n",
      "7  IF  X is     medium and  Y is very.small THEN   Z  is      small\n",
      "8  IF  X is      large and  Y is very.small THEN   Z  is      small\n",
      "9  IF  X is very.large and  Y is very.small THEN   Z  is      small\n",
      "10 IF  X is very.small and  Y is      small THEN   Z  is very.small\n",
      "11 IF  X is very.small and  Y is      small THEN   Z  is      small\n",
      "12 IF  X is      small and  Y is      small THEN   Z  is      small\n",
      "13 IF  X is      small and  Y is      small THEN   Z  is     medium\n",
      "14 IF  X is     medium and  Y is      small THEN   Z  is      small\n",
      "15 IF  X is      large and  Y is      small THEN   Z  is      small\n",
      "16 IF  X is      large and  Y is      small THEN   Z  is     medium\n",
      "17 IF  X is very.large and  Y is      small THEN   Z  is      small\n",
      "18 IF  X is very.large and  Y is      small THEN   Z  is very.small\n",
      "19 IF  X is     medium and  Y is      small THEN   Z  is     medium\n",
      "20 IF  X is      small and  Y is      small THEN   Z  is      large\n",
      "21 IF  X is      large and  Y is      small THEN   Z  is      large\n",
      "22 IF  X is      small and  Y is      small THEN   Z  is very.large\n",
      "23 IF  X is      large and  Y is      small THEN   Z  is very.large\n",
      "24 IF  X is very.small and  Y is     medium THEN   Z  is very.small\n",
      "25 IF  X is very.small and  Y is     medium THEN   Z  is      small\n",
      "26 IF  X is      small and  Y is     medium THEN   Z  is      small\n",
      "27 IF  X is      small and  Y is     medium THEN   Z  is     medium\n",
      "28 IF  X is     medium and  Y is     medium THEN   Z  is     medium\n",
      "29 IF  X is     medium and  Y is     medium THEN   Z  is      small\n",
      "30 IF  X is      large and  Y is     medium THEN   Z  is     medium\n",
      "31 IF  X is very.large and  Y is     medium THEN   Z  is      small\n",
      "32 IF  X is very.large and  Y is     medium THEN   Z  is very.small\n",
      "33 IF  X is      large and  Y is     medium THEN   Z  is      small\n",
      "34 IF  X is very.small and  Y is      large THEN   Z  is very.small\n",
      "35 IF  X is very.small and  Y is      large THEN   Z  is      small\n",
      "36 IF  X is      small and  Y is      large THEN   Z  is      small\n",
      "37 IF  X is      small and  Y is      large THEN   Z  is     medium\n",
      "38 IF  X is     medium and  Y is      large THEN   Z  is     medium\n",
      "39 IF  X is      large and  Y is      large THEN   Z  is     medium\n",
      "40 IF  X is very.large and  Y is      large THEN   Z  is      small\n",
      "41 IF  X is very.large and  Y is      large THEN   Z  is very.small\n",
      "42 IF  X is      small and  Y is      large THEN   Z  is      large\n",
      "43 IF  X is      large and  Y is      large THEN   Z  is      large\n",
      "44 IF  X is      small and  Y is      large THEN   Z  is very.large\n",
      "45 IF  X is      large and  Y is      large THEN   Z  is very.large\n",
      "46 IF  X is very.small and  Y is very.small THEN   Z  is      small\n",
      "47 IF  X is     medium and  Y is      large THEN   Z  is      small\n"
     ]
    }
   ],
   "source": [
    "summary(mod.reg\n",
    "       )"
   ]
  },
  {
   "cell_type": "code",
   "execution_count": 38,
   "metadata": {},
   "outputs": [
    {
     "data": {
      "image/png": "[encoded data removed]",
      "text/plain": [
       "Plot with title “Z”"
      ]
     },
     "metadata": {},
     "output_type": "display_data"
    }
   ],
   "source": [
    "plotMF(mod.reg)"
   ]
  },
  {
   "cell_type": "code",
   "execution_count": 39,
   "metadata": {
    "collapsed": true
   },
   "outputs": [],
   "source": [
    "#teste para avaliar a aprendizagem \n",
    "res.test <- predict(mod.reg,data.tst)"
   ]
  },
  {
   "cell_type": "code",
   "execution_count": 41,
   "metadata": {},
   "outputs": [
    {
     "data": {
      "text/html": [
       "<table>\n",
       "<tbody>\n",
       "\t<tr><td>0.5559067</td></tr>\n",
       "\t<tr><td>0.5575578</td></tr>\n",
       "\t<tr><td>0.5581635</td></tr>\n",
       "\t<tr><td>0.5583481</td></tr>\n",
       "\t<tr><td>0.5583889</td></tr>\n",
       "\t<tr><td>0.5228276</td></tr>\n",
       "\t<tr><td>0.4581406</td></tr>\n",
       "\t<tr><td>0.4359850</td></tr>\n",
       "\t<tr><td>0.4254105</td></tr>\n",
       "\t<tr><td>0.4359850</td></tr>\n",
       "\t<tr><td>0.4581406</td></tr>\n",
       "\t<tr><td>0.5228276</td></tr>\n",
       "\t<tr><td>0.6845259</td></tr>\n",
       "\t<tr><td>0.7091040</td></tr>\n",
       "\t<tr><td>0.7160513</td></tr>\n",
       "</tbody>\n",
       "</table>\n"
      ],
      "text/latex": [
       "\\begin{tabular}{l}\n",
       "\t 0.5559067\\\\\n",
       "\t 0.5575578\\\\\n",
       "\t 0.5581635\\\\\n",
       "\t 0.5583481\\\\\n",
       "\t 0.5583889\\\\\n",
       "\t 0.5228276\\\\\n",
       "\t 0.4581406\\\\\n",
       "\t 0.4359850\\\\\n",
       "\t 0.4254105\\\\\n",
       "\t 0.4359850\\\\\n",
       "\t 0.4581406\\\\\n",
       "\t 0.5228276\\\\\n",
       "\t 0.6845259\\\\\n",
       "\t 0.7091040\\\\\n",
       "\t 0.7160513\\\\\n",
       "\\end{tabular}\n"
      ],
      "text/markdown": [
       "\n",
       "| 0.5559067 | \n",
       "| 0.5575578 | \n",
       "| 0.5581635 | \n",
       "| 0.5583481 | \n",
       "| 0.5583889 | \n",
       "| 0.5228276 | \n",
       "| 0.4581406 | \n",
       "| 0.4359850 | \n",
       "| 0.4254105 | \n",
       "| 0.4359850 | \n",
       "| 0.4581406 | \n",
       "| 0.5228276 | \n",
       "| 0.6845259 | \n",
       "| 0.7091040 | \n",
       "| 0.7160513 | \n",
       "\n",
       "\n"
      ],
      "text/plain": [
       "      [,1]     \n",
       " [1,] 0.5559067\n",
       " [2,] 0.5575578\n",
       " [3,] 0.5581635\n",
       " [4,] 0.5583481\n",
       " [5,] 0.5583889\n",
       " [6,] 0.5228276\n",
       " [7,] 0.4581406\n",
       " [8,] 0.4359850\n",
       " [9,] 0.4254105\n",
       "[10,] 0.4359850\n",
       "[11,] 0.4581406\n",
       "[12,] 0.5228276\n",
       "[13,] 0.6845259\n",
       "[14,] 0.7091040\n",
       "[15,] 0.7160513"
      ]
     },
     "metadata": {},
     "output_type": "display_data"
    }
   ],
   "source": [
    "head(res.test,15)"
   ]
  },
  {
   "cell_type": "code",
   "execution_count": 42,
   "metadata": {
    "collapsed": true
   },
   "outputs": [],
   "source": [
    "#comparar os valores encontrados com os valores reais....análise feita sobre o MSE Mean Square Error\n",
    "err.MSE <-mean((real.val - res.test)^2)"
   ]
  },
  {
   "cell_type": "code",
   "execution_count": 43,
   "metadata": {},
   "outputs": [
    {
     "data": {
      "text/html": [
       "0.0785226101012115"
      ],
      "text/latex": [
       "0.0785226101012115"
      ],
      "text/markdown": [
       "0.0785226101012115"
      ],
      "text/plain": [
       "[1] 0.07852261"
      ]
     },
     "metadata": {},
     "output_type": "display_data"
    }
   ],
   "source": [
    "err.MSE"
   ]
  },
  {
   "cell_type": "markdown",
   "metadata": {},
   "source": [
    "## Problemas de Classificação também podem ser simulados "
   ]
  },
  {
   "cell_type": "code",
   "execution_count": 44,
   "metadata": {
    "collapsed": true
   },
   "outputs": [],
   "source": [
    "data(iris)#carregando o dataset IRIS"
   ]
  },
  {
   "cell_type": "code",
   "execution_count": 46,
   "metadata": {},
   "outputs": [
    {
     "data": {
      "text/html": [
       "<table>\n",
       "<thead><tr><th scope=col>Sepal.Length</th><th scope=col>Sepal.Width</th><th scope=col>Petal.Length</th><th scope=col>Petal.Width</th><th scope=col>Species</th></tr></thead>\n",
       "<tbody>\n",
       "\t<tr><td>5.1   </td><td>3.5   </td><td>1.4   </td><td>0.2   </td><td>setosa</td></tr>\n",
       "\t<tr><td>4.9   </td><td>3.0   </td><td>1.4   </td><td>0.2   </td><td>setosa</td></tr>\n",
       "\t<tr><td>4.7   </td><td>3.2   </td><td>1.3   </td><td>0.2   </td><td>setosa</td></tr>\n",
       "\t<tr><td>4.6   </td><td>3.1   </td><td>1.5   </td><td>0.2   </td><td>setosa</td></tr>\n",
       "\t<tr><td>5.0   </td><td>3.6   </td><td>1.4   </td><td>0.2   </td><td>setosa</td></tr>\n",
       "\t<tr><td>5.4   </td><td>3.9   </td><td>1.7   </td><td>0.4   </td><td>setosa</td></tr>\n",
       "\t<tr><td>4.6   </td><td>3.4   </td><td>1.4   </td><td>0.3   </td><td>setosa</td></tr>\n",
       "\t<tr><td>5.0   </td><td>3.4   </td><td>1.5   </td><td>0.2   </td><td>setosa</td></tr>\n",
       "\t<tr><td>4.4   </td><td>2.9   </td><td>1.4   </td><td>0.2   </td><td>setosa</td></tr>\n",
       "\t<tr><td>4.9   </td><td>3.1   </td><td>1.5   </td><td>0.1   </td><td>setosa</td></tr>\n",
       "\t<tr><td>5.4   </td><td>3.7   </td><td>1.5   </td><td>0.2   </td><td>setosa</td></tr>\n",
       "\t<tr><td>4.8   </td><td>3.4   </td><td>1.6   </td><td>0.2   </td><td>setosa</td></tr>\n",
       "\t<tr><td>4.8   </td><td>3.0   </td><td>1.4   </td><td>0.1   </td><td>setosa</td></tr>\n",
       "\t<tr><td>4.3   </td><td>3.0   </td><td>1.1   </td><td>0.1   </td><td>setosa</td></tr>\n",
       "\t<tr><td>5.8   </td><td>4.0   </td><td>1.2   </td><td>0.2   </td><td>setosa</td></tr>\n",
       "</tbody>\n",
       "</table>\n"
      ],
      "text/latex": [
       "\\begin{tabular}{r|lllll}\n",
       " Sepal.Length & Sepal.Width & Petal.Length & Petal.Width & Species\\\\\n",
       "\\hline\n",
       "\t 5.1    & 3.5    & 1.4    & 0.2    & setosa\\\\\n",
       "\t 4.9    & 3.0    & 1.4    & 0.2    & setosa\\\\\n",
       "\t 4.7    & 3.2    & 1.3    & 0.2    & setosa\\\\\n",
       "\t 4.6    & 3.1    & 1.5    & 0.2    & setosa\\\\\n",
       "\t 5.0    & 3.6    & 1.4    & 0.2    & setosa\\\\\n",
       "\t 5.4    & 3.9    & 1.7    & 0.4    & setosa\\\\\n",
       "\t 4.6    & 3.4    & 1.4    & 0.3    & setosa\\\\\n",
       "\t 5.0    & 3.4    & 1.5    & 0.2    & setosa\\\\\n",
       "\t 4.4    & 2.9    & 1.4    & 0.2    & setosa\\\\\n",
       "\t 4.9    & 3.1    & 1.5    & 0.1    & setosa\\\\\n",
       "\t 5.4    & 3.7    & 1.5    & 0.2    & setosa\\\\\n",
       "\t 4.8    & 3.4    & 1.6    & 0.2    & setosa\\\\\n",
       "\t 4.8    & 3.0    & 1.4    & 0.1    & setosa\\\\\n",
       "\t 4.3    & 3.0    & 1.1    & 0.1    & setosa\\\\\n",
       "\t 5.8    & 4.0    & 1.2    & 0.2    & setosa\\\\\n",
       "\\end{tabular}\n"
      ],
      "text/markdown": [
       "\n",
       "Sepal.Length | Sepal.Width | Petal.Length | Petal.Width | Species | \n",
       "|---|---|---|---|---|---|---|---|---|---|---|---|---|---|---|\n",
       "| 5.1    | 3.5    | 1.4    | 0.2    | setosa | \n",
       "| 4.9    | 3.0    | 1.4    | 0.2    | setosa | \n",
       "| 4.7    | 3.2    | 1.3    | 0.2    | setosa | \n",
       "| 4.6    | 3.1    | 1.5    | 0.2    | setosa | \n",
       "| 5.0    | 3.6    | 1.4    | 0.2    | setosa | \n",
       "| 5.4    | 3.9    | 1.7    | 0.4    | setosa | \n",
       "| 4.6    | 3.4    | 1.4    | 0.3    | setosa | \n",
       "| 5.0    | 3.4    | 1.5    | 0.2    | setosa | \n",
       "| 4.4    | 2.9    | 1.4    | 0.2    | setosa | \n",
       "| 4.9    | 3.1    | 1.5    | 0.1    | setosa | \n",
       "| 5.4    | 3.7    | 1.5    | 0.2    | setosa | \n",
       "| 4.8    | 3.4    | 1.6    | 0.2    | setosa | \n",
       "| 4.8    | 3.0    | 1.4    | 0.1    | setosa | \n",
       "| 4.3    | 3.0    | 1.1    | 0.1    | setosa | \n",
       "| 5.8    | 4.0    | 1.2    | 0.2    | setosa | \n",
       "\n",
       "\n"
      ],
      "text/plain": [
       "   Sepal.Length Sepal.Width Petal.Length Petal.Width Species\n",
       "1  5.1          3.5         1.4          0.2         setosa \n",
       "2  4.9          3.0         1.4          0.2         setosa \n",
       "3  4.7          3.2         1.3          0.2         setosa \n",
       "4  4.6          3.1         1.5          0.2         setosa \n",
       "5  5.0          3.6         1.4          0.2         setosa \n",
       "6  5.4          3.9         1.7          0.4         setosa \n",
       "7  4.6          3.4         1.4          0.3         setosa \n",
       "8  5.0          3.4         1.5          0.2         setosa \n",
       "9  4.4          2.9         1.4          0.2         setosa \n",
       "10 4.9          3.1         1.5          0.1         setosa \n",
       "11 5.4          3.7         1.5          0.2         setosa \n",
       "12 4.8          3.4         1.6          0.2         setosa \n",
       "13 4.8          3.0         1.4          0.1         setosa \n",
       "14 4.3          3.0         1.1          0.1         setosa \n",
       "15 5.8          4.0         1.2          0.2         setosa "
      ]
     },
     "metadata": {},
     "output_type": "display_data"
    }
   ],
   "source": [
    "head(iris,15)"
   ]
  },
  {
   "cell_type": "code",
   "execution_count": 48,
   "metadata": {},
   "outputs": [
    {
     "data": {
      "text/html": [
       "<ol class=list-inline>\n",
       "\t<li>150</li>\n",
       "\t<li>5</li>\n",
       "</ol>\n"
      ],
      "text/latex": [
       "\\begin{enumerate*}\n",
       "\\item 150\n",
       "\\item 5\n",
       "\\end{enumerate*}\n"
      ],
      "text/markdown": [
       "1. 150\n",
       "2. 5\n",
       "\n",
       "\n"
      ],
      "text/plain": [
       "[1] 150   5"
      ]
     },
     "metadata": {},
     "output_type": "display_data"
    }
   ],
   "source": [
    "dim(iris)"
   ]
  },
  {
   "cell_type": "code",
   "execution_count": 52,
   "metadata": {},
   "outputs": [
    {
     "data": {
      "text/html": [
       "<ol class=list-inline>\n",
       "\t<li>139</li>\n",
       "\t<li>33</li>\n",
       "\t<li>98</li>\n",
       "\t<li>78</li>\n",
       "\t<li>88</li>\n",
       "\t<li>134</li>\n",
       "\t<li>53</li>\n",
       "\t<li>149</li>\n",
       "\t<li>20</li>\n",
       "\t<li>11</li>\n",
       "\t<li>80</li>\n",
       "\t<li>102</li>\n",
       "\t<li>119</li>\n",
       "\t<li>51</li>\n",
       "\t<li>106</li>\n",
       "\t<li>97</li>\n",
       "\t<li>42</li>\n",
       "\t<li>107</li>\n",
       "\t<li>36</li>\n",
       "\t<li>57</li>\n",
       "\t<li>137</li>\n",
       "\t<li>87</li>\n",
       "\t<li>32</li>\n",
       "\t<li>122</li>\n",
       "\t<li>71</li>\n",
       "\t<li>147</li>\n",
       "\t<li>124</li>\n",
       "\t<li>92</li>\n",
       "\t<li>17</li>\n",
       "\t<li>118</li>\n",
       "\t<li>108</li>\n",
       "\t<li>69</li>\n",
       "\t<li>29</li>\n",
       "\t<li>117</li>\n",
       "\t<li>126</li>\n",
       "\t<li>35</li>\n",
       "\t<li>43</li>\n",
       "\t<li>83</li>\n",
       "\t<li>54</li>\n",
       "\t<li>131</li>\n",
       "\t<li>34</li>\n",
       "\t<li>115</li>\n",
       "\t<li>70</li>\n",
       "\t<li>6</li>\n",
       "\t<li>24</li>\n",
       "\t<li>138</li>\n",
       "\t<li>76</li>\n",
       "\t<li>21</li>\n",
       "\t<li>56</li>\n",
       "\t<li>112</li>\n",
       "\t<li>15</li>\n",
       "\t<li>101</li>\n",
       "\t<li>46</li>\n",
       "\t<li>7</li>\n",
       "\t<li>148</li>\n",
       "\t<li>52</li>\n",
       "\t<li>5</li>\n",
       "\t<li>62</li>\n",
       "\t<li>23</li>\n",
       "\t<li>37</li>\n",
       "\t<li>26</li>\n",
       "\t<li>64</li>\n",
       "\t<li>67</li>\n",
       "\t<li>116</li>\n",
       "\t<li>145</li>\n",
       "\t<li>125</li>\n",
       "\t<li>47</li>\n",
       "\t<li>84</li>\n",
       "\t<li>95</li>\n",
       "\t<li>41</li>\n",
       "\t<li>31</li>\n",
       "\t<li>140</li>\n",
       "\t<li>4</li>\n",
       "\t<li>40</li>\n",
       "\t<li>25</li>\n",
       "\t<li>130</li>\n",
       "\t<li>81</li>\n",
       "\t<li>141</li>\n",
       "\t<li>135</li>\n",
       "\t<li>66</li>\n",
       "\t<li>45</li>\n",
       "\t<li>133</li>\n",
       "\t<li>16</li>\n",
       "\t<li>13</li>\n",
       "\t<li>142</li>\n",
       "\t<li>12</li>\n",
       "\t<li>60</li>\n",
       "\t<li>8</li>\n",
       "\t<li>110</li>\n",
       "\t<li>3</li>\n",
       "\t<li>65</li>\n",
       "\t<li>86</li>\n",
       "\t<li>22</li>\n",
       "\t<li>79</li>\n",
       "\t<li>19</li>\n",
       "\t<li>1</li>\n",
       "\t<li>28</li>\n",
       "\t<li>121</li>\n",
       "\t<li>10</li>\n",
       "\t<li>111</li>\n",
       "\t<li>144</li>\n",
       "\t<li>103</li>\n",
       "\t<li>49</li>\n",
       "\t<li>85</li>\n",
       "\t<li>61</li>\n",
       "\t<li>50</li>\n",
       "\t<li>109</li>\n",
       "\t<li>39</li>\n",
       "\t<li>75</li>\n",
       "\t<li>90</li>\n",
       "\t<li>100</li>\n",
       "\t<li>58</li>\n",
       "\t<li>9</li>\n",
       "\t<li>150</li>\n",
       "\t<li>143</li>\n",
       "\t<li>55</li>\n",
       "\t<li>99</li>\n",
       "\t<li>30</li>\n",
       "\t<li>132</li>\n",
       "\t<li>18</li>\n",
       "\t<li>27</li>\n",
       "\t<li>129</li>\n",
       "\t<li>128</li>\n",
       "\t<li>68</li>\n",
       "\t<li>120</li>\n",
       "\t<li>48</li>\n",
       "\t<li>96</li>\n",
       "\t<li>14</li>\n",
       "\t<li>38</li>\n",
       "\t<li>72</li>\n",
       "\t<li>89</li>\n",
       "\t<li>59</li>\n",
       "\t<li>63</li>\n",
       "\t<li>74</li>\n",
       "\t<li>94</li>\n",
       "\t<li>146</li>\n",
       "\t<li>127</li>\n",
       "\t<li>2</li>\n",
       "\t<li>114</li>\n",
       "\t<li>93</li>\n",
       "\t<li>91</li>\n",
       "\t<li>123</li>\n",
       "\t<li>44</li>\n",
       "\t<li>136</li>\n",
       "\t<li>82</li>\n",
       "\t<li>113</li>\n",
       "\t<li>77</li>\n",
       "\t<li>105</li>\n",
       "\t<li>73</li>\n",
       "\t<li>104</li>\n",
       "</ol>\n"
      ],
      "text/latex": [
       "\\begin{enumerate*}\n",
       "\\item 139\n",
       "\\item 33\n",
       "\\item 98\n",
       "\\item 78\n",
       "\\item 88\n",
       "\\item 134\n",
       "\\item 53\n",
       "\\item 149\n",
       "\\item 20\n",
       "\\item 11\n",
       "\\item 80\n",
       "\\item 102\n",
       "\\item 119\n",
       "\\item 51\n",
       "\\item 106\n",
       "\\item 97\n",
       "\\item 42\n",
       "\\item 107\n",
       "\\item 36\n",
       "\\item 57\n",
       "\\item 137\n",
       "\\item 87\n",
       "\\item 32\n",
       "\\item 122\n",
       "\\item 71\n",
       "\\item 147\n",
       "\\item 124\n",
       "\\item 92\n",
       "\\item 17\n",
       "\\item 118\n",
       "\\item 108\n",
       "\\item 69\n",
       "\\item 29\n",
       "\\item 117\n",
       "\\item 126\n",
       "\\item 35\n",
       "\\item 43\n",
       "\\item 83\n",
       "\\item 54\n",
       "\\item 131\n",
       "\\item 34\n",
       "\\item 115\n",
       "\\item 70\n",
       "\\item 6\n",
       "\\item 24\n",
       "\\item 138\n",
       "\\item 76\n",
       "\\item 21\n",
       "\\item 56\n",
       "\\item 112\n",
       "\\item 15\n",
       "\\item 101\n",
       "\\item 46\n",
       "\\item 7\n",
       "\\item 148\n",
       "\\item 52\n",
       "\\item 5\n",
       "\\item 62\n",
       "\\item 23\n",
       "\\item 37\n",
       "\\item 26\n",
       "\\item 64\n",
       "\\item 67\n",
       "\\item 116\n",
       "\\item 145\n",
       "\\item 125\n",
       "\\item 47\n",
       "\\item 84\n",
       "\\item 95\n",
       "\\item 41\n",
       "\\item 31\n",
       "\\item 140\n",
       "\\item 4\n",
       "\\item 40\n",
       "\\item 25\n",
       "\\item 130\n",
       "\\item 81\n",
       "\\item 141\n",
       "\\item 135\n",
       "\\item 66\n",
       "\\item 45\n",
       "\\item 133\n",
       "\\item 16\n",
       "\\item 13\n",
       "\\item 142\n",
       "\\item 12\n",
       "\\item 60\n",
       "\\item 8\n",
       "\\item 110\n",
       "\\item 3\n",
       "\\item 65\n",
       "\\item 86\n",
       "\\item 22\n",
       "\\item 79\n",
       "\\item 19\n",
       "\\item 1\n",
       "\\item 28\n",
       "\\item 121\n",
       "\\item 10\n",
       "\\item 111\n",
       "\\item 144\n",
       "\\item 103\n",
       "\\item 49\n",
       "\\item 85\n",
       "\\item 61\n",
       "\\item 50\n",
       "\\item 109\n",
       "\\item 39\n",
       "\\item 75\n",
       "\\item 90\n",
       "\\item 100\n",
       "\\item 58\n",
       "\\item 9\n",
       "\\item 150\n",
       "\\item 143\n",
       "\\item 55\n",
       "\\item 99\n",
       "\\item 30\n",
       "\\item 132\n",
       "\\item 18\n",
       "\\item 27\n",
       "\\item 129\n",
       "\\item 128\n",
       "\\item 68\n",
       "\\item 120\n",
       "\\item 48\n",
       "\\item 96\n",
       "\\item 14\n",
       "\\item 38\n",
       "\\item 72\n",
       "\\item 89\n",
       "\\item 59\n",
       "\\item 63\n",
       "\\item 74\n",
       "\\item 94\n",
       "\\item 146\n",
       "\\item 127\n",
       "\\item 2\n",
       "\\item 114\n",
       "\\item 93\n",
       "\\item 91\n",
       "\\item 123\n",
       "\\item 44\n",
       "\\item 136\n",
       "\\item 82\n",
       "\\item 113\n",
       "\\item 77\n",
       "\\item 105\n",
       "\\item 73\n",
       "\\item 104\n",
       "\\end{enumerate*}\n"
      ],
      "text/markdown": [
       "1. 139\n",
       "2. 33\n",
       "3. 98\n",
       "4. 78\n",
       "5. 88\n",
       "6. 134\n",
       "7. 53\n",
       "8. 149\n",
       "9. 20\n",
       "10. 11\n",
       "11. 80\n",
       "12. 102\n",
       "13. 119\n",
       "14. 51\n",
       "15. 106\n",
       "16. 97\n",
       "17. 42\n",
       "18. 107\n",
       "19. 36\n",
       "20. 57\n",
       "21. 137\n",
       "22. 87\n",
       "23. 32\n",
       "24. 122\n",
       "25. 71\n",
       "26. 147\n",
       "27. 124\n",
       "28. 92\n",
       "29. 17\n",
       "30. 118\n",
       "31. 108\n",
       "32. 69\n",
       "33. 29\n",
       "34. 117\n",
       "35. 126\n",
       "36. 35\n",
       "37. 43\n",
       "38. 83\n",
       "39. 54\n",
       "40. 131\n",
       "41. 34\n",
       "42. 115\n",
       "43. 70\n",
       "44. 6\n",
       "45. 24\n",
       "46. 138\n",
       "47. 76\n",
       "48. 21\n",
       "49. 56\n",
       "50. 112\n",
       "51. 15\n",
       "52. 101\n",
       "53. 46\n",
       "54. 7\n",
       "55. 148\n",
       "56. 52\n",
       "57. 5\n",
       "58. 62\n",
       "59. 23\n",
       "60. 37\n",
       "61. 26\n",
       "62. 64\n",
       "63. 67\n",
       "64. 116\n",
       "65. 145\n",
       "66. 125\n",
       "67. 47\n",
       "68. 84\n",
       "69. 95\n",
       "70. 41\n",
       "71. 31\n",
       "72. 140\n",
       "73. 4\n",
       "74. 40\n",
       "75. 25\n",
       "76. 130\n",
       "77. 81\n",
       "78. 141\n",
       "79. 135\n",
       "80. 66\n",
       "81. 45\n",
       "82. 133\n",
       "83. 16\n",
       "84. 13\n",
       "85. 142\n",
       "86. 12\n",
       "87. 60\n",
       "88. 8\n",
       "89. 110\n",
       "90. 3\n",
       "91. 65\n",
       "92. 86\n",
       "93. 22\n",
       "94. 79\n",
       "95. 19\n",
       "96. 1\n",
       "97. 28\n",
       "98. 121\n",
       "99. 10\n",
       "100. 111\n",
       "101. 144\n",
       "102. 103\n",
       "103. 49\n",
       "104. 85\n",
       "105. 61\n",
       "106. 50\n",
       "107. 109\n",
       "108. 39\n",
       "109. 75\n",
       "110. 90\n",
       "111. 100\n",
       "112. 58\n",
       "113. 9\n",
       "114. 150\n",
       "115. 143\n",
       "116. 55\n",
       "117. 99\n",
       "118. 30\n",
       "119. 132\n",
       "120. 18\n",
       "121. 27\n",
       "122. 129\n",
       "123. 128\n",
       "124. 68\n",
       "125. 120\n",
       "126. 48\n",
       "127. 96\n",
       "128. 14\n",
       "129. 38\n",
       "130. 72\n",
       "131. 89\n",
       "132. 59\n",
       "133. 63\n",
       "134. 74\n",
       "135. 94\n",
       "136. 146\n",
       "137. 127\n",
       "138. 2\n",
       "139. 114\n",
       "140. 93\n",
       "141. 91\n",
       "142. 123\n",
       "143. 44\n",
       "144. 136\n",
       "145. 82\n",
       "146. 113\n",
       "147. 77\n",
       "148. 105\n",
       "149. 73\n",
       "150. 104\n",
       "\n",
       "\n"
      ],
      "text/plain": [
       "  [1] 139  33  98  78  88 134  53 149  20  11  80 102 119  51 106  97  42 107\n",
       " [19]  36  57 137  87  32 122  71 147 124  92  17 118 108  69  29 117 126  35\n",
       " [37]  43  83  54 131  34 115  70   6  24 138  76  21  56 112  15 101  46   7\n",
       " [55] 148  52   5  62  23  37  26  64  67 116 145 125  47  84  95  41  31 140\n",
       " [73]   4  40  25 130  81 141 135  66  45 133  16  13 142  12  60   8 110   3\n",
       " [91]  65  86  22  79  19   1  28 121  10 111 144 103  49  85  61  50 109  39\n",
       "[109]  75  90 100  58   9 150 143  55  99  30 132  18  27 129 128  68 120  48\n",
       "[127]  96  14  38  72  89  59  63  74  94 146 127   2 114  93  91 123  44 136\n",
       "[145]  82 113  77 105  73 104"
      ]
     },
     "metadata": {},
     "output_type": "display_data"
    }
   ],
   "source": [
    "v <- (sample(nrow(iris)))\n",
    "v"
   ]
  },
  {
   "cell_type": "code",
   "execution_count": 54,
   "metadata": {
    "collapsed": true
   },
   "outputs": [],
   "source": [
    "set.seed(2)\n",
    "irisShuffled <- iris[sample(nrow(iris)),]"
   ]
  },
  {
   "cell_type": "code",
   "execution_count": 56,
   "metadata": {},
   "outputs": [
    {
     "data": {
      "text/html": [
       "<table>\n",
       "<thead><tr><th></th><th scope=col>Sepal.Length</th><th scope=col>Sepal.Width</th><th scope=col>Petal.Length</th><th scope=col>Petal.Width</th><th scope=col>Species</th></tr></thead>\n",
       "<tbody>\n",
       "\t<tr><th scope=row>28</th><td>5.2       </td><td>3.5       </td><td>1.5       </td><td>0.2       </td><td>setosa    </td></tr>\n",
       "\t<tr><th scope=row>105</th><td>6.5       </td><td>3.0       </td><td>5.8       </td><td>2.2       </td><td>virginica </td></tr>\n",
       "\t<tr><th scope=row>85</th><td>5.4       </td><td>3.0       </td><td>4.5       </td><td>1.5       </td><td>versicolor</td></tr>\n",
       "\t<tr><th scope=row>25</th><td>4.8       </td><td>3.4       </td><td>1.9       </td><td>0.2       </td><td>setosa    </td></tr>\n",
       "\t<tr><th scope=row>138</th><td>6.4       </td><td>3.1       </td><td>5.5       </td><td>1.8       </td><td>virginica </td></tr>\n",
       "\t<tr><th scope=row>137</th><td>6.3       </td><td>3.4       </td><td>5.6       </td><td>2.4       </td><td>virginica </td></tr>\n",
       "\t<tr><th scope=row>19</th><td>5.7       </td><td>3.8       </td><td>1.7       </td><td>0.3       </td><td>setosa    </td></tr>\n",
       "\t<tr><th scope=row>120</th><td>6.0       </td><td>2.2       </td><td>5.0       </td><td>1.5       </td><td>virginica </td></tr>\n",
       "\t<tr><th scope=row>67</th><td>5.6       </td><td>3.0       </td><td>4.5       </td><td>1.5       </td><td>versicolor</td></tr>\n",
       "\t<tr><th scope=row>78</th><td>6.7       </td><td>3.0       </td><td>5.0       </td><td>1.7       </td><td>versicolor</td></tr>\n",
       "\t<tr><th scope=row>141</th><td>6.7       </td><td>3.1       </td><td>5.6       </td><td>2.4       </td><td>virginica </td></tr>\n",
       "\t<tr><th scope=row>34</th><td>5.5       </td><td>4.2       </td><td>1.4       </td><td>0.2       </td><td>setosa    </td></tr>\n",
       "\t<tr><th scope=row>149</th><td>6.2       </td><td>3.4       </td><td>5.4       </td><td>2.3       </td><td>virginica </td></tr>\n",
       "\t<tr><th scope=row>147</th><td>6.3       </td><td>2.5       </td><td>5.0       </td><td>1.9       </td><td>virginica </td></tr>\n",
       "\t<tr><th scope=row>56</th><td>5.7       </td><td>2.8       </td><td>4.5       </td><td>1.3       </td><td>versicolor</td></tr>\n",
       "</tbody>\n",
       "</table>\n"
      ],
      "text/latex": [
       "\\begin{tabular}{r|lllll}\n",
       "  & Sepal.Length & Sepal.Width & Petal.Length & Petal.Width & Species\\\\\n",
       "\\hline\n",
       "\t28 & 5.2        & 3.5        & 1.5        & 0.2        & setosa    \\\\\n",
       "\t105 & 6.5        & 3.0        & 5.8        & 2.2        & virginica \\\\\n",
       "\t85 & 5.4        & 3.0        & 4.5        & 1.5        & versicolor\\\\\n",
       "\t25 & 4.8        & 3.4        & 1.9        & 0.2        & setosa    \\\\\n",
       "\t138 & 6.4        & 3.1        & 5.5        & 1.8        & virginica \\\\\n",
       "\t137 & 6.3        & 3.4        & 5.6        & 2.4        & virginica \\\\\n",
       "\t19 & 5.7        & 3.8        & 1.7        & 0.3        & setosa    \\\\\n",
       "\t120 & 6.0        & 2.2        & 5.0        & 1.5        & virginica \\\\\n",
       "\t67 & 5.6        & 3.0        & 4.5        & 1.5        & versicolor\\\\\n",
       "\t78 & 6.7        & 3.0        & 5.0        & 1.7        & versicolor\\\\\n",
       "\t141 & 6.7        & 3.1        & 5.6        & 2.4        & virginica \\\\\n",
       "\t34 & 5.5        & 4.2        & 1.4        & 0.2        & setosa    \\\\\n",
       "\t149 & 6.2        & 3.4        & 5.4        & 2.3        & virginica \\\\\n",
       "\t147 & 6.3        & 2.5        & 5.0        & 1.9        & virginica \\\\\n",
       "\t56 & 5.7        & 2.8        & 4.5        & 1.3        & versicolor\\\\\n",
       "\\end{tabular}\n"
      ],
      "text/markdown": [
       "\n",
       "| <!--/--> | Sepal.Length | Sepal.Width | Petal.Length | Petal.Width | Species | \n",
       "|---|---|---|---|---|---|---|---|---|---|---|---|---|---|---|\n",
       "| 28 | 5.2        | 3.5        | 1.5        | 0.2        | setosa     | \n",
       "| 105 | 6.5        | 3.0        | 5.8        | 2.2        | virginica  | \n",
       "| 85 | 5.4        | 3.0        | 4.5        | 1.5        | versicolor | \n",
       "| 25 | 4.8        | 3.4        | 1.9        | 0.2        | setosa     | \n",
       "| 138 | 6.4        | 3.1        | 5.5        | 1.8        | virginica  | \n",
       "| 137 | 6.3        | 3.4        | 5.6        | 2.4        | virginica  | \n",
       "| 19 | 5.7        | 3.8        | 1.7        | 0.3        | setosa     | \n",
       "| 120 | 6.0        | 2.2        | 5.0        | 1.5        | virginica  | \n",
       "| 67 | 5.6        | 3.0        | 4.5        | 1.5        | versicolor | \n",
       "| 78 | 6.7        | 3.0        | 5.0        | 1.7        | versicolor | \n",
       "| 141 | 6.7        | 3.1        | 5.6        | 2.4        | virginica  | \n",
       "| 34 | 5.5        | 4.2        | 1.4        | 0.2        | setosa     | \n",
       "| 149 | 6.2        | 3.4        | 5.4        | 2.3        | virginica  | \n",
       "| 147 | 6.3        | 2.5        | 5.0        | 1.9        | virginica  | \n",
       "| 56 | 5.7        | 2.8        | 4.5        | 1.3        | versicolor | \n",
       "\n",
       "\n"
      ],
      "text/plain": [
       "    Sepal.Length Sepal.Width Petal.Length Petal.Width Species   \n",
       "28  5.2          3.5         1.5          0.2         setosa    \n",
       "105 6.5          3.0         5.8          2.2         virginica \n",
       "85  5.4          3.0         4.5          1.5         versicolor\n",
       "25  4.8          3.4         1.9          0.2         setosa    \n",
       "138 6.4          3.1         5.5          1.8         virginica \n",
       "137 6.3          3.4         5.6          2.4         virginica \n",
       "19  5.7          3.8         1.7          0.3         setosa    \n",
       "120 6.0          2.2         5.0          1.5         virginica \n",
       "67  5.6          3.0         4.5          1.5         versicolor\n",
       "78  6.7          3.0         5.0          1.7         versicolor\n",
       "141 6.7          3.1         5.6          2.4         virginica \n",
       "34  5.5          4.2         1.4          0.2         setosa    \n",
       "149 6.2          3.4         5.4          2.3         virginica \n",
       "147 6.3          2.5         5.0          1.9         virginica \n",
       "56  5.7          2.8         4.5          1.3         versicolor"
      ]
     },
     "metadata": {},
     "output_type": "display_data"
    }
   ],
   "source": [
    "head(irisShuffled,15)"
   ]
  },
  {
   "cell_type": "code",
   "execution_count": 57,
   "metadata": {
    "collapsed": true
   },
   "outputs": [],
   "source": [
    "#precisa converter a última coluna que é uma string em valores numéricos\n",
    "irisShuffled[,5] <-unclass(irisShuffled[,5])"
   ]
  },
  {
   "cell_type": "code",
   "execution_count": 58,
   "metadata": {},
   "outputs": [
    {
     "data": {
      "text/html": [
       "<table>\n",
       "<thead><tr><th></th><th scope=col>Sepal.Length</th><th scope=col>Sepal.Width</th><th scope=col>Petal.Length</th><th scope=col>Petal.Width</th><th scope=col>Species</th></tr></thead>\n",
       "<tbody>\n",
       "\t<tr><th scope=row>28</th><td>5.2</td><td>3.5</td><td>1.5</td><td>0.2</td><td>1  </td></tr>\n",
       "\t<tr><th scope=row>105</th><td>6.5</td><td>3.0</td><td>5.8</td><td>2.2</td><td>3  </td></tr>\n",
       "\t<tr><th scope=row>85</th><td>5.4</td><td>3.0</td><td>4.5</td><td>1.5</td><td>2  </td></tr>\n",
       "\t<tr><th scope=row>25</th><td>4.8</td><td>3.4</td><td>1.9</td><td>0.2</td><td>1  </td></tr>\n",
       "\t<tr><th scope=row>138</th><td>6.4</td><td>3.1</td><td>5.5</td><td>1.8</td><td>3  </td></tr>\n",
       "\t<tr><th scope=row>137</th><td>6.3</td><td>3.4</td><td>5.6</td><td>2.4</td><td>3  </td></tr>\n",
       "\t<tr><th scope=row>19</th><td>5.7</td><td>3.8</td><td>1.7</td><td>0.3</td><td>1  </td></tr>\n",
       "\t<tr><th scope=row>120</th><td>6.0</td><td>2.2</td><td>5.0</td><td>1.5</td><td>3  </td></tr>\n",
       "\t<tr><th scope=row>67</th><td>5.6</td><td>3.0</td><td>4.5</td><td>1.5</td><td>2  </td></tr>\n",
       "\t<tr><th scope=row>78</th><td>6.7</td><td>3.0</td><td>5.0</td><td>1.7</td><td>2  </td></tr>\n",
       "\t<tr><th scope=row>141</th><td>6.7</td><td>3.1</td><td>5.6</td><td>2.4</td><td>3  </td></tr>\n",
       "\t<tr><th scope=row>34</th><td>5.5</td><td>4.2</td><td>1.4</td><td>0.2</td><td>1  </td></tr>\n",
       "\t<tr><th scope=row>149</th><td>6.2</td><td>3.4</td><td>5.4</td><td>2.3</td><td>3  </td></tr>\n",
       "\t<tr><th scope=row>147</th><td>6.3</td><td>2.5</td><td>5.0</td><td>1.9</td><td>3  </td></tr>\n",
       "\t<tr><th scope=row>56</th><td>5.7</td><td>2.8</td><td>4.5</td><td>1.3</td><td>2  </td></tr>\n",
       "</tbody>\n",
       "</table>\n"
      ],
      "text/latex": [
       "\\begin{tabular}{r|lllll}\n",
       "  & Sepal.Length & Sepal.Width & Petal.Length & Petal.Width & Species\\\\\n",
       "\\hline\n",
       "\t28 & 5.2 & 3.5 & 1.5 & 0.2 & 1  \\\\\n",
       "\t105 & 6.5 & 3.0 & 5.8 & 2.2 & 3  \\\\\n",
       "\t85 & 5.4 & 3.0 & 4.5 & 1.5 & 2  \\\\\n",
       "\t25 & 4.8 & 3.4 & 1.9 & 0.2 & 1  \\\\\n",
       "\t138 & 6.4 & 3.1 & 5.5 & 1.8 & 3  \\\\\n",
       "\t137 & 6.3 & 3.4 & 5.6 & 2.4 & 3  \\\\\n",
       "\t19 & 5.7 & 3.8 & 1.7 & 0.3 & 1  \\\\\n",
       "\t120 & 6.0 & 2.2 & 5.0 & 1.5 & 3  \\\\\n",
       "\t67 & 5.6 & 3.0 & 4.5 & 1.5 & 2  \\\\\n",
       "\t78 & 6.7 & 3.0 & 5.0 & 1.7 & 2  \\\\\n",
       "\t141 & 6.7 & 3.1 & 5.6 & 2.4 & 3  \\\\\n",
       "\t34 & 5.5 & 4.2 & 1.4 & 0.2 & 1  \\\\\n",
       "\t149 & 6.2 & 3.4 & 5.4 & 2.3 & 3  \\\\\n",
       "\t147 & 6.3 & 2.5 & 5.0 & 1.9 & 3  \\\\\n",
       "\t56 & 5.7 & 2.8 & 4.5 & 1.3 & 2  \\\\\n",
       "\\end{tabular}\n"
      ],
      "text/markdown": [
       "\n",
       "| <!--/--> | Sepal.Length | Sepal.Width | Petal.Length | Petal.Width | Species | \n",
       "|---|---|---|---|---|---|---|---|---|---|---|---|---|---|---|\n",
       "| 28 | 5.2 | 3.5 | 1.5 | 0.2 | 1   | \n",
       "| 105 | 6.5 | 3.0 | 5.8 | 2.2 | 3   | \n",
       "| 85 | 5.4 | 3.0 | 4.5 | 1.5 | 2   | \n",
       "| 25 | 4.8 | 3.4 | 1.9 | 0.2 | 1   | \n",
       "| 138 | 6.4 | 3.1 | 5.5 | 1.8 | 3   | \n",
       "| 137 | 6.3 | 3.4 | 5.6 | 2.4 | 3   | \n",
       "| 19 | 5.7 | 3.8 | 1.7 | 0.3 | 1   | \n",
       "| 120 | 6.0 | 2.2 | 5.0 | 1.5 | 3   | \n",
       "| 67 | 5.6 | 3.0 | 4.5 | 1.5 | 2   | \n",
       "| 78 | 6.7 | 3.0 | 5.0 | 1.7 | 2   | \n",
       "| 141 | 6.7 | 3.1 | 5.6 | 2.4 | 3   | \n",
       "| 34 | 5.5 | 4.2 | 1.4 | 0.2 | 1   | \n",
       "| 149 | 6.2 | 3.4 | 5.4 | 2.3 | 3   | \n",
       "| 147 | 6.3 | 2.5 | 5.0 | 1.9 | 3   | \n",
       "| 56 | 5.7 | 2.8 | 4.5 | 1.3 | 2   | \n",
       "\n",
       "\n"
      ],
      "text/plain": [
       "    Sepal.Length Sepal.Width Petal.Length Petal.Width Species\n",
       "28  5.2          3.5         1.5          0.2         1      \n",
       "105 6.5          3.0         5.8          2.2         3      \n",
       "85  5.4          3.0         4.5          1.5         2      \n",
       "25  4.8          3.4         1.9          0.2         1      \n",
       "138 6.4          3.1         5.5          1.8         3      \n",
       "137 6.3          3.4         5.6          2.4         3      \n",
       "19  5.7          3.8         1.7          0.3         1      \n",
       "120 6.0          2.2         5.0          1.5         3      \n",
       "67  5.6          3.0         4.5          1.5         2      \n",
       "78  6.7          3.0         5.0          1.7         2      \n",
       "141 6.7          3.1         5.6          2.4         3      \n",
       "34  5.5          4.2         1.4          0.2         1      \n",
       "149 6.2          3.4         5.4          2.3         3      \n",
       "147 6.3          2.5         5.0          1.9         3      \n",
       "56  5.7          2.8         4.5          1.3         2      "
      ]
     },
     "metadata": {},
     "output_type": "display_data"
    }
   ],
   "source": [
    "head(irisShuffled,15)"
   ]
  },
  {
   "cell_type": "code",
   "execution_count": 59,
   "metadata": {
    "collapsed": true
   },
   "outputs": [],
   "source": [
    "tra.iris <-irisShuffled[1:105,]"
   ]
  },
  {
   "cell_type": "code",
   "execution_count": 60,
   "metadata": {},
   "outputs": [
    {
     "data": {
      "text/html": [
       "<table>\n",
       "<thead><tr><th></th><th scope=col>Sepal.Length</th><th scope=col>Sepal.Width</th><th scope=col>Petal.Length</th><th scope=col>Petal.Width</th><th scope=col>Species</th></tr></thead>\n",
       "<tbody>\n",
       "\t<tr><th scope=row>28</th><td>5.2</td><td>3.5</td><td>1.5</td><td>0.2</td><td>1  </td></tr>\n",
       "\t<tr><th scope=row>105</th><td>6.5</td><td>3.0</td><td>5.8</td><td>2.2</td><td>3  </td></tr>\n",
       "\t<tr><th scope=row>85</th><td>5.4</td><td>3.0</td><td>4.5</td><td>1.5</td><td>2  </td></tr>\n",
       "\t<tr><th scope=row>25</th><td>4.8</td><td>3.4</td><td>1.9</td><td>0.2</td><td>1  </td></tr>\n",
       "\t<tr><th scope=row>138</th><td>6.4</td><td>3.1</td><td>5.5</td><td>1.8</td><td>3  </td></tr>\n",
       "\t<tr><th scope=row>137</th><td>6.3</td><td>3.4</td><td>5.6</td><td>2.4</td><td>3  </td></tr>\n",
       "\t<tr><th scope=row>19</th><td>5.7</td><td>3.8</td><td>1.7</td><td>0.3</td><td>1  </td></tr>\n",
       "\t<tr><th scope=row>120</th><td>6.0</td><td>2.2</td><td>5.0</td><td>1.5</td><td>3  </td></tr>\n",
       "\t<tr><th scope=row>67</th><td>5.6</td><td>3.0</td><td>4.5</td><td>1.5</td><td>2  </td></tr>\n",
       "\t<tr><th scope=row>78</th><td>6.7</td><td>3.0</td><td>5.0</td><td>1.7</td><td>2  </td></tr>\n",
       "\t<tr><th scope=row>141</th><td>6.7</td><td>3.1</td><td>5.6</td><td>2.4</td><td>3  </td></tr>\n",
       "\t<tr><th scope=row>34</th><td>5.5</td><td>4.2</td><td>1.4</td><td>0.2</td><td>1  </td></tr>\n",
       "\t<tr><th scope=row>149</th><td>6.2</td><td>3.4</td><td>5.4</td><td>2.3</td><td>3  </td></tr>\n",
       "\t<tr><th scope=row>147</th><td>6.3</td><td>2.5</td><td>5.0</td><td>1.9</td><td>3  </td></tr>\n",
       "\t<tr><th scope=row>56</th><td>5.7</td><td>2.8</td><td>4.5</td><td>1.3</td><td>2  </td></tr>\n",
       "</tbody>\n",
       "</table>\n"
      ],
      "text/latex": [
       "\\begin{tabular}{r|lllll}\n",
       "  & Sepal.Length & Sepal.Width & Petal.Length & Petal.Width & Species\\\\\n",
       "\\hline\n",
       "\t28 & 5.2 & 3.5 & 1.5 & 0.2 & 1  \\\\\n",
       "\t105 & 6.5 & 3.0 & 5.8 & 2.2 & 3  \\\\\n",
       "\t85 & 5.4 & 3.0 & 4.5 & 1.5 & 2  \\\\\n",
       "\t25 & 4.8 & 3.4 & 1.9 & 0.2 & 1  \\\\\n",
       "\t138 & 6.4 & 3.1 & 5.5 & 1.8 & 3  \\\\\n",
       "\t137 & 6.3 & 3.4 & 5.6 & 2.4 & 3  \\\\\n",
       "\t19 & 5.7 & 3.8 & 1.7 & 0.3 & 1  \\\\\n",
       "\t120 & 6.0 & 2.2 & 5.0 & 1.5 & 3  \\\\\n",
       "\t67 & 5.6 & 3.0 & 4.5 & 1.5 & 2  \\\\\n",
       "\t78 & 6.7 & 3.0 & 5.0 & 1.7 & 2  \\\\\n",
       "\t141 & 6.7 & 3.1 & 5.6 & 2.4 & 3  \\\\\n",
       "\t34 & 5.5 & 4.2 & 1.4 & 0.2 & 1  \\\\\n",
       "\t149 & 6.2 & 3.4 & 5.4 & 2.3 & 3  \\\\\n",
       "\t147 & 6.3 & 2.5 & 5.0 & 1.9 & 3  \\\\\n",
       "\t56 & 5.7 & 2.8 & 4.5 & 1.3 & 2  \\\\\n",
       "\\end{tabular}\n"
      ],
      "text/markdown": [
       "\n",
       "| <!--/--> | Sepal.Length | Sepal.Width | Petal.Length | Petal.Width | Species | \n",
       "|---|---|---|---|---|---|---|---|---|---|---|---|---|---|---|\n",
       "| 28 | 5.2 | 3.5 | 1.5 | 0.2 | 1   | \n",
       "| 105 | 6.5 | 3.0 | 5.8 | 2.2 | 3   | \n",
       "| 85 | 5.4 | 3.0 | 4.5 | 1.5 | 2   | \n",
       "| 25 | 4.8 | 3.4 | 1.9 | 0.2 | 1   | \n",
       "| 138 | 6.4 | 3.1 | 5.5 | 1.8 | 3   | \n",
       "| 137 | 6.3 | 3.4 | 5.6 | 2.4 | 3   | \n",
       "| 19 | 5.7 | 3.8 | 1.7 | 0.3 | 1   | \n",
       "| 120 | 6.0 | 2.2 | 5.0 | 1.5 | 3   | \n",
       "| 67 | 5.6 | 3.0 | 4.5 | 1.5 | 2   | \n",
       "| 78 | 6.7 | 3.0 | 5.0 | 1.7 | 2   | \n",
       "| 141 | 6.7 | 3.1 | 5.6 | 2.4 | 3   | \n",
       "| 34 | 5.5 | 4.2 | 1.4 | 0.2 | 1   | \n",
       "| 149 | 6.2 | 3.4 | 5.4 | 2.3 | 3   | \n",
       "| 147 | 6.3 | 2.5 | 5.0 | 1.9 | 3   | \n",
       "| 56 | 5.7 | 2.8 | 4.5 | 1.3 | 2   | \n",
       "\n",
       "\n"
      ],
      "text/plain": [
       "    Sepal.Length Sepal.Width Petal.Length Petal.Width Species\n",
       "28  5.2          3.5         1.5          0.2         1      \n",
       "105 6.5          3.0         5.8          2.2         3      \n",
       "85  5.4          3.0         4.5          1.5         2      \n",
       "25  4.8          3.4         1.9          0.2         1      \n",
       "138 6.4          3.1         5.5          1.8         3      \n",
       "137 6.3          3.4         5.6          2.4         3      \n",
       "19  5.7          3.8         1.7          0.3         1      \n",
       "120 6.0          2.2         5.0          1.5         3      \n",
       "67  5.6          3.0         4.5          1.5         2      \n",
       "78  6.7          3.0         5.0          1.7         2      \n",
       "141 6.7          3.1         5.6          2.4         3      \n",
       "34  5.5          4.2         1.4          0.2         1      \n",
       "149 6.2          3.4         5.4          2.3         3      \n",
       "147 6.3          2.5         5.0          1.9         3      \n",
       "56  5.7          2.8         4.5          1.3         2      "
      ]
     },
     "metadata": {},
     "output_type": "display_data"
    }
   ],
   "source": [
    "#treino\n",
    "head(tra.iris,15)"
   ]
  },
  {
   "cell_type": "code",
   "execution_count": 61,
   "metadata": {
    "collapsed": true
   },
   "outputs": [],
   "source": [
    "#teste \n",
    "tst.iris <-irisShuffled[106:nrow(irisShuffled),1:4]"
   ]
  },
  {
   "cell_type": "code",
   "execution_count": 62,
   "metadata": {},
   "outputs": [
    {
     "data": {
      "text/html": [
       "<table>\n",
       "<thead><tr><th></th><th scope=col>Sepal.Length</th><th scope=col>Sepal.Width</th><th scope=col>Petal.Length</th><th scope=col>Petal.Width</th></tr></thead>\n",
       "<tbody>\n",
       "\t<tr><th scope=row>98</th><td>6.2</td><td>2.9</td><td>4.3</td><td>1.3</td></tr>\n",
       "\t<tr><th scope=row>40</th><td>5.1</td><td>3.4</td><td>1.5</td><td>0.2</td></tr>\n",
       "\t<tr><th scope=row>119</th><td>7.7</td><td>2.6</td><td>6.9</td><td>2.3</td></tr>\n",
       "\t<tr><th scope=row>7</th><td>4.6</td><td>3.4</td><td>1.4</td><td>0.3</td></tr>\n",
       "\t<tr><th scope=row>104</th><td>6.3</td><td>2.9</td><td>5.6</td><td>1.8</td></tr>\n",
       "\t<tr><th scope=row>100</th><td>5.7</td><td>2.8</td><td>4.1</td><td>1.3</td></tr>\n",
       "\t<tr><th scope=row>72</th><td>6.1</td><td>2.8</td><td>4.0</td><td>1.3</td></tr>\n",
       "\t<tr><th scope=row>77</th><td>6.8</td><td>2.8</td><td>4.8</td><td>1.4</td></tr>\n",
       "\t<tr><th scope=row>86</th><td>6.0</td><td>3.4</td><td>4.5</td><td>1.6</td></tr>\n",
       "\t<tr><th scope=row>30</th><td>4.7</td><td>3.2</td><td>1.6</td><td>0.2</td></tr>\n",
       "\t<tr><th scope=row>69</th><td>6.2</td><td>2.2</td><td>4.5</td><td>1.5</td></tr>\n",
       "\t<tr><th scope=row>103</th><td>7.1</td><td>3.0</td><td>5.9</td><td>2.1</td></tr>\n",
       "\t<tr><th scope=row>95</th><td>5.6</td><td>2.7</td><td>4.2</td><td>1.3</td></tr>\n",
       "\t<tr><th scope=row>133</th><td>6.4</td><td>2.8</td><td>5.6</td><td>2.2</td></tr>\n",
       "\t<tr><th scope=row>106</th><td>7.6</td><td>3.0</td><td>6.6</td><td>2.1</td></tr>\n",
       "</tbody>\n",
       "</table>\n"
      ],
      "text/latex": [
       "\\begin{tabular}{r|llll}\n",
       "  & Sepal.Length & Sepal.Width & Petal.Length & Petal.Width\\\\\n",
       "\\hline\n",
       "\t98 & 6.2 & 2.9 & 4.3 & 1.3\\\\\n",
       "\t40 & 5.1 & 3.4 & 1.5 & 0.2\\\\\n",
       "\t119 & 7.7 & 2.6 & 6.9 & 2.3\\\\\n",
       "\t7 & 4.6 & 3.4 & 1.4 & 0.3\\\\\n",
       "\t104 & 6.3 & 2.9 & 5.6 & 1.8\\\\\n",
       "\t100 & 5.7 & 2.8 & 4.1 & 1.3\\\\\n",
       "\t72 & 6.1 & 2.8 & 4.0 & 1.3\\\\\n",
       "\t77 & 6.8 & 2.8 & 4.8 & 1.4\\\\\n",
       "\t86 & 6.0 & 3.4 & 4.5 & 1.6\\\\\n",
       "\t30 & 4.7 & 3.2 & 1.6 & 0.2\\\\\n",
       "\t69 & 6.2 & 2.2 & 4.5 & 1.5\\\\\n",
       "\t103 & 7.1 & 3.0 & 5.9 & 2.1\\\\\n",
       "\t95 & 5.6 & 2.7 & 4.2 & 1.3\\\\\n",
       "\t133 & 6.4 & 2.8 & 5.6 & 2.2\\\\\n",
       "\t106 & 7.6 & 3.0 & 6.6 & 2.1\\\\\n",
       "\\end{tabular}\n"
      ],
      "text/markdown": [
       "\n",
       "| <!--/--> | Sepal.Length | Sepal.Width | Petal.Length | Petal.Width | \n",
       "|---|---|---|---|---|---|---|---|---|---|---|---|---|---|---|\n",
       "| 98 | 6.2 | 2.9 | 4.3 | 1.3 | \n",
       "| 40 | 5.1 | 3.4 | 1.5 | 0.2 | \n",
       "| 119 | 7.7 | 2.6 | 6.9 | 2.3 | \n",
       "| 7 | 4.6 | 3.4 | 1.4 | 0.3 | \n",
       "| 104 | 6.3 | 2.9 | 5.6 | 1.8 | \n",
       "| 100 | 5.7 | 2.8 | 4.1 | 1.3 | \n",
       "| 72 | 6.1 | 2.8 | 4.0 | 1.3 | \n",
       "| 77 | 6.8 | 2.8 | 4.8 | 1.4 | \n",
       "| 86 | 6.0 | 3.4 | 4.5 | 1.6 | \n",
       "| 30 | 4.7 | 3.2 | 1.6 | 0.2 | \n",
       "| 69 | 6.2 | 2.2 | 4.5 | 1.5 | \n",
       "| 103 | 7.1 | 3.0 | 5.9 | 2.1 | \n",
       "| 95 | 5.6 | 2.7 | 4.2 | 1.3 | \n",
       "| 133 | 6.4 | 2.8 | 5.6 | 2.2 | \n",
       "| 106 | 7.6 | 3.0 | 6.6 | 2.1 | \n",
       "\n",
       "\n"
      ],
      "text/plain": [
       "    Sepal.Length Sepal.Width Petal.Length Petal.Width\n",
       "98  6.2          2.9         4.3          1.3        \n",
       "40  5.1          3.4         1.5          0.2        \n",
       "119 7.7          2.6         6.9          2.3        \n",
       "7   4.6          3.4         1.4          0.3        \n",
       "104 6.3          2.9         5.6          1.8        \n",
       "100 5.7          2.8         4.1          1.3        \n",
       "72  6.1          2.8         4.0          1.3        \n",
       "77  6.8          2.8         4.8          1.4        \n",
       "86  6.0          3.4         4.5          1.6        \n",
       "30  4.7          3.2         1.6          0.2        \n",
       "69  6.2          2.2         4.5          1.5        \n",
       "103 7.1          3.0         5.9          2.1        \n",
       "95  5.6          2.7         4.2          1.3        \n",
       "133 6.4          2.8         5.6          2.2        \n",
       "106 7.6          3.0         6.6          2.1        "
      ]
     },
     "metadata": {},
     "output_type": "display_data"
    }
   ],
   "source": [
    "head(tst.iris,15)"
   ]
  },
  {
   "cell_type": "code",
   "execution_count": 63,
   "metadata": {
    "collapsed": true
   },
   "outputs": [],
   "source": [
    "#valores corretos para avaliar a acurácia do método\n",
    "real.iris <-matrix(irisShuffled[106:nrow(irisShuffled),5],ncol = 1)"
   ]
  },
  {
   "cell_type": "code",
   "execution_count": 66,
   "metadata": {},
   "outputs": [
    {
     "data": {
      "text/html": [
       "<table>\n",
       "<tbody>\n",
       "\t<tr><td>2</td></tr>\n",
       "\t<tr><td>1</td></tr>\n",
       "\t<tr><td>3</td></tr>\n",
       "\t<tr><td>1</td></tr>\n",
       "\t<tr><td>3</td></tr>\n",
       "\t<tr><td>2</td></tr>\n",
       "\t<tr><td>2</td></tr>\n",
       "\t<tr><td>2</td></tr>\n",
       "\t<tr><td>2</td></tr>\n",
       "\t<tr><td>1</td></tr>\n",
       "</tbody>\n",
       "</table>\n"
      ],
      "text/latex": [
       "\\begin{tabular}{l}\n",
       "\t 2\\\\\n",
       "\t 1\\\\\n",
       "\t 3\\\\\n",
       "\t 1\\\\\n",
       "\t 3\\\\\n",
       "\t 2\\\\\n",
       "\t 2\\\\\n",
       "\t 2\\\\\n",
       "\t 2\\\\\n",
       "\t 1\\\\\n",
       "\\end{tabular}\n"
      ],
      "text/markdown": [
       "\n",
       "| 2 | \n",
       "| 1 | \n",
       "| 3 | \n",
       "| 1 | \n",
       "| 3 | \n",
       "| 2 | \n",
       "| 2 | \n",
       "| 2 | \n",
       "| 2 | \n",
       "| 1 | \n",
       "\n",
       "\n"
      ],
      "text/plain": [
       "      [,1]\n",
       " [1,] 2   \n",
       " [2,] 1   \n",
       " [3,] 3   \n",
       " [4,] 1   \n",
       " [5,] 3   \n",
       " [6,] 2   \n",
       " [7,] 2   \n",
       " [8,] 2   \n",
       " [9,] 2   \n",
       "[10,] 1   "
      ]
     },
     "metadata": {},
     "output_type": "display_data"
    }
   ],
   "source": [
    "head(real.iris,10)"
   ]
  },
  {
   "cell_type": "code",
   "execution_count": 67,
   "metadata": {
    "collapsed": true
   },
   "outputs": [],
   "source": [
    "#necessário definir o intervalor de trabalho da variável de entrada piso e teto para cada variável\n",
    "range.data.input <-apply(iris[,-ncol(iris)],2,range)"
   ]
  },
  {
   "cell_type": "code",
   "execution_count": 68,
   "metadata": {},
   "outputs": [
    {
     "data": {
      "text/html": [
       "<table>\n",
       "<thead><tr><th scope=col>Sepal.Length</th><th scope=col>Sepal.Width</th><th scope=col>Petal.Length</th><th scope=col>Petal.Width</th></tr></thead>\n",
       "<tbody>\n",
       "\t<tr><td>4.3</td><td>2.0</td><td>1.0</td><td>0.1</td></tr>\n",
       "\t<tr><td>7.9</td><td>4.4</td><td>6.9</td><td>2.5</td></tr>\n",
       "</tbody>\n",
       "</table>\n"
      ],
      "text/latex": [
       "\\begin{tabular}{llll}\n",
       " Sepal.Length & Sepal.Width & Petal.Length & Petal.Width\\\\\n",
       "\\hline\n",
       "\t 4.3 & 2.0 & 1.0 & 0.1\\\\\n",
       "\t 7.9 & 4.4 & 6.9 & 2.5\\\\\n",
       "\\end{tabular}\n"
      ],
      "text/markdown": [
       "\n",
       "Sepal.Length | Sepal.Width | Petal.Length | Petal.Width | \n",
       "|---|---|\n",
       "| 4.3 | 2.0 | 1.0 | 0.1 | \n",
       "| 7.9 | 4.4 | 6.9 | 2.5 | \n",
       "\n",
       "\n"
      ],
      "text/plain": [
       "     Sepal.Length Sepal.Width Petal.Length Petal.Width\n",
       "[1,] 4.3          2.0         1.0          0.1        \n",
       "[2,] 7.9          4.4         6.9          2.5        "
      ]
     },
     "metadata": {},
     "output_type": "display_data"
    }
   ],
   "source": [
    "range.data.input"
   ]
  },
  {
   "cell_type": "code",
   "execution_count": 69,
   "metadata": {
    "collapsed": true
   },
   "outputs": [],
   "source": [
    "method.type <-\"FRBCS.CHI\"\n",
    "control <-list(num.labels = 3, type.mf =\"TRAPEZOID\", type.tnorm = \"MIN\",type.snorm = \"MAX\",type.implication.func = \"ZADEH\") "
   ]
  },
  {
   "cell_type": "code",
   "execution_count": 70,
   "metadata": {},
   "outputs": [
    {
     "data": {
      "text/html": [
       "<dl>\n",
       "\t<dt>$num.labels</dt>\n",
       "\t\t<dd>3</dd>\n",
       "\t<dt>$type.mf</dt>\n",
       "\t\t<dd>'TRAPEZOID'</dd>\n",
       "\t<dt>$type.tnorm</dt>\n",
       "\t\t<dd>'MIN'</dd>\n",
       "\t<dt>$type.snorm</dt>\n",
       "\t\t<dd>'MAX'</dd>\n",
       "\t<dt>$type.implication.func</dt>\n",
       "\t\t<dd>'ZADEH'</dd>\n",
       "</dl>\n"
      ],
      "text/latex": [
       "\\begin{description}\n",
       "\\item[\\$num.labels] 3\n",
       "\\item[\\$type.mf] 'TRAPEZOID'\n",
       "\\item[\\$type.tnorm] 'MIN'\n",
       "\\item[\\$type.snorm] 'MAX'\n",
       "\\item[\\$type.implication.func] 'ZADEH'\n",
       "\\end{description}\n"
      ],
      "text/markdown": [
       "$num.labels\n",
       ":   3\n",
       "$type.mf\n",
       ":   'TRAPEZOID'\n",
       "$type.tnorm\n",
       ":   'MIN'\n",
       "$type.snorm\n",
       ":   'MAX'\n",
       "$type.implication.func\n",
       ":   'ZADEH'\n",
       "\n",
       "\n"
      ],
      "text/plain": [
       "$num.labels\n",
       "[1] 3\n",
       "\n",
       "$type.mf\n",
       "[1] \"TRAPEZOID\"\n",
       "\n",
       "$type.tnorm\n",
       "[1] \"MIN\"\n",
       "\n",
       "$type.snorm\n",
       "[1] \"MAX\"\n",
       "\n",
       "$type.implication.func\n",
       "[1] \"ZADEH\"\n"
      ]
     },
     "metadata": {},
     "output_type": "display_data"
    }
   ],
   "source": [
    "control #OK"
   ]
  },
  {
   "cell_type": "code",
   "execution_count": 71,
   "metadata": {
    "collapsed": true
   },
   "outputs": [],
   "source": [
    "mod.class <-frbs.learn(tra.iris, range.data.input,method.type,control)"
   ]
  },
  {
   "cell_type": "code",
   "execution_count": 72,
   "metadata": {},
   "outputs": [
    {
     "data": {
      "text/plain": [
       "$num.labels\n",
       "     [,1] [,2] [,3] [,4] [,5]\n",
       "[1,]    3    3    3    3    3\n",
       "\n",
       "$rule\n",
       "      [,1] [,2]           [,3] [,4]     [,5]  [,6]          [,7] [,8]     [,9] \n",
       " [1,] \"IF\" \"Sepal.Length\" \"is\" \"small\"  \"and\" \"Sepal.Width\" \"is\" \"medium\" \"and\"\n",
       " [2,] \"IF\" \"Sepal.Length\" \"is\" \"large\"  \"and\" \"Sepal.Width\" \"is\" \"medium\" \"and\"\n",
       " [3,] \"IF\" \"Sepal.Length\" \"is\" \"medium\" \"and\" \"Sepal.Width\" \"is\" \"large\"  \"and\"\n",
       " [4,] \"IF\" \"Sepal.Length\" \"is\" \"medium\" \"and\" \"Sepal.Width\" \"is\" \"medium\" \"and\"\n",
       " [5,] \"IF\" \"Sepal.Length\" \"is\" \"medium\" \"and\" \"Sepal.Width\" \"is\" \"medium\" \"and\"\n",
       " [6,] \"IF\" \"Sepal.Length\" \"is\" \"medium\" \"and\" \"Sepal.Width\" \"is\" \"small\"  \"and\"\n",
       " [7,] \"IF\" \"Sepal.Length\" \"is\" \"medium\" \"and\" \"Sepal.Width\" \"is\" \"small\"  \"and\"\n",
       " [8,] \"IF\" \"Sepal.Length\" \"is\" \"small\"  \"and\" \"Sepal.Width\" \"is\" \"large\"  \"and\"\n",
       " [9,] \"IF\" \"Sepal.Length\" \"is\" \"large\"  \"and\" \"Sepal.Width\" \"is\" \"large\"  \"and\"\n",
       "[10,] \"IF\" \"Sepal.Length\" \"is\" \"small\"  \"and\" \"Sepal.Width\" \"is\" \"small\"  \"and\"\n",
       "[11,] \"IF\" \"Sepal.Length\" \"is\" \"large\"  \"and\" \"Sepal.Width\" \"is\" \"medium\" \"and\"\n",
       "[12,] \"IF\" \"Sepal.Length\" \"is\" \"small\"  \"and\" \"Sepal.Width\" \"is\" \"medium\" \"and\"\n",
       "[13,] \"IF\" \"Sepal.Length\" \"is\" \"large\"  \"and\" \"Sepal.Width\" \"is\" \"medium\" \"and\"\n",
       "[14,] \"IF\" \"Sepal.Length\" \"is\" \"medium\" \"and\" \"Sepal.Width\" \"is\" \"small\"  \"and\"\n",
       "[15,] \"IF\" \"Sepal.Length\" \"is\" \"large\"  \"and\" \"Sepal.Width\" \"is\" \"medium\" \"and\"\n",
       "[16,] \"IF\" \"Sepal.Length\" \"is\" \"medium\" \"and\" \"Sepal.Width\" \"is\" \"medium\" \"and\"\n",
       "[17,] \"IF\" \"Sepal.Length\" \"is\" \"medium\" \"and\" \"Sepal.Width\" \"is\" \"small\"  \"and\"\n",
       "[18,] \"IF\" \"Sepal.Length\" \"is\" \"large\"  \"and\" \"Sepal.Width\" \"is\" \"small\"  \"and\"\n",
       "[19,] \"IF\" \"Sepal.Length\" \"is\" \"small\"  \"and\" \"Sepal.Width\" \"is\" \"small\"  \"and\"\n",
       "      [,10]          [,11] [,12]    [,13] [,14]         [,15] [,16]    [,17] \n",
       " [1,] \"Petal.Length\" \"is\"  \"small\"  \"and\" \"Petal.Width\" \"is\"  \"small\"  \"THEN\"\n",
       " [2,] \"Petal.Length\" \"is\"  \"large\"  \"and\" \"Petal.Width\" \"is\"  \"large\"  \"THEN\"\n",
       " [3,] \"Petal.Length\" \"is\"  \"small\"  \"and\" \"Petal.Width\" \"is\"  \"small\"  \"THEN\"\n",
       " [4,] \"Petal.Length\" \"is\"  \"large\"  \"and\" \"Petal.Width\" \"is\"  \"large\"  \"THEN\"\n",
       " [5,] \"Petal.Length\" \"is\"  \"medium\" \"and\" \"Petal.Width\" \"is\"  \"medium\" \"THEN\"\n",
       " [6,] \"Petal.Length\" \"is\"  \"medium\" \"and\" \"Petal.Width\" \"is\"  \"medium\" \"THEN\"\n",
       " [7,] \"Petal.Length\" \"is\"  \"large\"  \"and\" \"Petal.Width\" \"is\"  \"medium\" \"THEN\"\n",
       " [8,] \"Petal.Length\" \"is\"  \"small\"  \"and\" \"Petal.Width\" \"is\"  \"small\"  \"THEN\"\n",
       " [9,] \"Petal.Length\" \"is\"  \"large\"  \"and\" \"Petal.Width\" \"is\"  \"large\"  \"THEN\"\n",
       "[10,] \"Petal.Length\" \"is\"  \"medium\" \"and\" \"Petal.Width\" \"is\"  \"medium\" \"THEN\"\n",
       "[11,] \"Petal.Length\" \"is\"  \"large\"  \"and\" \"Petal.Width\" \"is\"  \"medium\" \"THEN\"\n",
       "[12,] \"Petal.Length\" \"is\"  \"medium\" \"and\" \"Petal.Width\" \"is\"  \"medium\" \"THEN\"\n",
       "[13,] \"Petal.Length\" \"is\"  \"large\"  \"and\" \"Petal.Width\" \"is\"  \"large\"  \"THEN\"\n",
       "[14,] \"Petal.Length\" \"is\"  \"large\"  \"and\" \"Petal.Width\" \"is\"  \"large\"  \"THEN\"\n",
       "[15,] \"Petal.Length\" \"is\"  \"medium\" \"and\" \"Petal.Width\" \"is\"  \"medium\" \"THEN\"\n",
       "[16,] \"Petal.Length\" \"is\"  \"medium\" \"and\" \"Petal.Width\" \"is\"  \"large\"  \"THEN\"\n",
       "[17,] \"Petal.Length\" \"is\"  \"large\"  \"and\" \"Petal.Width\" \"is\"  \"medium\" \"THEN\"\n",
       "[18,] \"Petal.Length\" \"is\"  \"large\"  \"and\" \"Petal.Width\" \"is\"  \"large\"  \"THEN\"\n",
       "[19,] \"Petal.Length\" \"is\"  \"medium\" \"and\" \"Petal.Width\" \"is\"  \"large\"  \"THEN\"\n",
       "      [,18]     [,19] [,20]\n",
       " [1,] \"Species\" \"is\"  \"1\"  \n",
       " [2,] \"Species\" \"is\"  \"3\"  \n",
       " [3,] \"Species\" \"is\"  \"1\"  \n",
       " [4,] \"Species\" \"is\"  \"3\"  \n",
       " [5,] \"Species\" \"is\"  \"2\"  \n",
       " [6,] \"Species\" \"is\"  \"2\"  \n",
       " [7,] \"Species\" \"is\"  \"3\"  \n",
       " [8,] \"Species\" \"is\"  \"1\"  \n",
       " [9,] \"Species\" \"is\"  \"3\"  \n",
       "[10,] \"Species\" \"is\"  \"2\"  \n",
       "[11,] \"Species\" \"is\"  \"3\"  \n",
       "[12,] \"Species\" \"is\"  \"2\"  \n",
       "[13,] \"Species\" \"is\"  \"2\"  \n",
       "[14,] \"Species\" \"is\"  \"3\"  \n",
       "[15,] \"Species\" \"is\"  \"2\"  \n",
       "[16,] \"Species\" \"is\"  \"3\"  \n",
       "[17,] \"Species\" \"is\"  \"2\"  \n",
       "[18,] \"Species\" \"is\"  \"3\"  \n",
       "[19,] \"Species\" \"is\"  \"3\"  \n",
       "\n",
       "$varinp.mf\n",
       "     small medium large small medium large small medium large small medium\n",
       "[1,]   2.0   4.00   3.0   2.0   4.00   3.0   2.0   4.00   3.0   2.0   4.00\n",
       "[2,]   0.0   0.23   0.6   0.0   0.23   0.6   0.0   0.23   0.6   0.0   0.23\n",
       "[3,]   0.2   0.43   0.8   0.2   0.43   0.8   0.2   0.43   0.8   0.2   0.43\n",
       "[4,]   0.4   0.53   1.0   0.4   0.53   1.0   0.4   0.53   1.0   0.4   0.53\n",
       "[5,]    NA   0.73    NA    NA   0.73    NA    NA   0.73    NA    NA   0.73\n",
       "     large\n",
       "[1,]   3.0\n",
       "[2,]   0.6\n",
       "[3,]   0.8\n",
       "[4,]   1.0\n",
       "[5,]    NA\n",
       "\n",
       "$degree.ante\n",
       "               \n",
       " [1,] 1.0000000\n",
       " [2,] 0.9333333\n",
       " [3,] 0.9333333\n",
       " [4,] 0.8722222\n",
       " [5,] 0.7944444\n",
       " [6,] 0.7686441\n",
       " [7,] 0.7500000\n",
       " [8,] 0.7500000\n",
       " [9,] 0.7500000\n",
       "[10,] 0.7250000\n",
       "[11,] 0.5250000\n",
       "[12,] 0.4722222\n",
       "[13,] 0.3333333\n",
       "[14,] 0.3898305\n",
       "[15,] 0.3333333\n",
       "[16,] 0.4296610\n",
       "[17,] 0.4745763\n",
       "[18,] 0.3333333\n",
       "[19,] 0.3333333\n",
       "\n",
       "$rule.data.num\n",
       "      [,1] [,2] [,3] [,4] [,5]\n",
       " [1,]    1    5    7   10   13\n",
       " [2,]    3    5    9   12   15\n",
       " [3,]    2    6    7   10   13\n",
       " [4,]    2    5    9   12   15\n",
       " [5,]    2    5    8   11   14\n",
       " [6,]    2    4    8   11   14\n",
       " [7,]    2    4    9   11   15\n",
       " [8,]    1    6    7   10   13\n",
       " [9,]    3    6    9   12   15\n",
       "[10,]    1    4    8   11   14\n",
       "[11,]    3    5    9   11   15\n",
       "[12,]    1    5    8   11   14\n",
       "[13,]    3    5    9   12   14\n",
       "[14,]    2    4    9   12   15\n",
       "[15,]    3    5    8   11   14\n",
       "[16,]    2    5    8   12   15\n",
       "[17,]    2    4    9   11   14\n",
       "[18,]    3    4    9   12   15\n",
       "[19,]    1    4    8   12   15\n",
       "\n",
       "$degree.rule\n",
       "               \n",
       " [1,] 1.0000000\n",
       " [2,] 0.9333333\n",
       " [3,] 0.9333333\n",
       " [4,] 0.8722222\n",
       " [5,] 0.7944444\n",
       " [6,] 0.7686441\n",
       " [7,] 0.7500000\n",
       " [8,] 0.7500000\n",
       " [9,] 0.7500000\n",
       "[10,] 0.7250000\n",
       "[11,] 0.5250000\n",
       "[12,] 0.0000000\n",
       "[13,] 0.0000000\n",
       "[14,] 0.0000000\n",
       "[15,] 0.0000000\n",
       "[16,] 0.0000000\n",
       "[17,] 0.0000000\n",
       "[18,] 0.0000000\n",
       "[19,] 0.0000000\n",
       "\n",
       "$range.data.ori\n",
       "     Sepal.Length Sepal.Width Petal.Length Petal.Width\n",
       "[1,]          4.3         2.0          1.0         0.1\n",
       "[2,]          7.9         4.4          6.9         2.5\n",
       "\n",
       "$type.mf\n",
       "[1] \"TRAPEZOID\"\n",
       "\n",
       "$type.tnorm\n",
       "[1] \"MIN\"\n",
       "\n",
       "$type.implication.func\n",
       "[1] \"ZADEH\"\n",
       "\n",
       "$class\n",
       "      [,1]\n",
       " [1,]    1\n",
       " [2,]    3\n",
       " [3,]    1\n",
       " [4,]    3\n",
       " [5,]    2\n",
       " [6,]    2\n",
       " [7,]    3\n",
       " [8,]    1\n",
       " [9,]    3\n",
       "[10,]    2\n",
       "[11,]    3\n",
       "[12,]    2\n",
       "[13,]    2\n",
       "[14,]    3\n",
       "[15,]    2\n",
       "[16,]    3\n",
       "[17,]    2\n",
       "[18,]    3\n",
       "[19,]    3\n",
       "\n",
       "$grade.cert\n",
       "               \n",
       " [1,] 1.0000000\n",
       " [2,] 0.9333333\n",
       " [3,] 0.9333333\n",
       " [4,] 0.8722222\n",
       " [5,] 0.7944444\n",
       " [6,] 0.7686441\n",
       " [7,] 0.7500000\n",
       " [8,] 0.7500000\n",
       " [9,] 0.7500000\n",
       "[10,] 0.7250000\n",
       "[11,] 0.5250000\n",
       "[12,] 0.4722222\n",
       "[13,] 0.3333333\n",
       "[14,] 0.3898305\n",
       "[15,] 0.3333333\n",
       "[16,] 0.4296610\n",
       "[17,] 0.4745763\n",
       "[18,] 0.3333333\n",
       "[19,] 0.3333333\n",
       "\n",
       "$type.snorm\n",
       "[1] \"MAX\"\n",
       "\n",
       "$type.model\n",
       "[1] \"FRBCS\"\n",
       "\n",
       "$method.type\n",
       "[1] \"FRBCS.CHI\"\n",
       "\n",
       "$name\n",
       "[1] \"sim-0\"\n",
       "\n",
       "$colnames.var\n",
       "[1] \"Sepal.Length\" \"Sepal.Width\"  \"Petal.Length\" \"Petal.Width\"  \"Species\"     \n",
       "\n",
       "attr(,\"class\")\n",
       "[1] \"frbs\""
      ]
     },
     "metadata": {},
     "output_type": "display_data"
    }
   ],
   "source": [
    "mod.class"
   ]
  },
  {
   "cell_type": "code",
   "execution_count": 73,
   "metadata": {
    "collapsed": true
   },
   "outputs": [],
   "source": [
    "res.test<-predict(mod.class,tst.iris)"
   ]
  },
  {
   "cell_type": "code",
   "execution_count": 75,
   "metadata": {},
   "outputs": [
    {
     "data": {
      "text/html": [
       "<table>\n",
       "<tbody>\n",
       "\t<tr><td>2</td></tr>\n",
       "\t<tr><td>1</td></tr>\n",
       "\t<tr><td>3</td></tr>\n",
       "\t<tr><td>1</td></tr>\n",
       "\t<tr><td>3</td></tr>\n",
       "\t<tr><td>2</td></tr>\n",
       "\t<tr><td>2</td></tr>\n",
       "\t<tr><td>2</td></tr>\n",
       "\t<tr><td>2</td></tr>\n",
       "\t<tr><td>1</td></tr>\n",
       "</tbody>\n",
       "</table>\n"
      ],
      "text/latex": [
       "\\begin{tabular}{l}\n",
       "\t 2\\\\\n",
       "\t 1\\\\\n",
       "\t 3\\\\\n",
       "\t 1\\\\\n",
       "\t 3\\\\\n",
       "\t 2\\\\\n",
       "\t 2\\\\\n",
       "\t 2\\\\\n",
       "\t 2\\\\\n",
       "\t 1\\\\\n",
       "\\end{tabular}\n"
      ],
      "text/markdown": [
       "\n",
       "| 2 | \n",
       "| 1 | \n",
       "| 3 | \n",
       "| 1 | \n",
       "| 3 | \n",
       "| 2 | \n",
       "| 2 | \n",
       "| 2 | \n",
       "| 2 | \n",
       "| 1 | \n",
       "\n",
       "\n"
      ],
      "text/plain": [
       "      [,1]\n",
       " [1,] 2   \n",
       " [2,] 1   \n",
       " [3,] 3   \n",
       " [4,] 1   \n",
       " [5,] 3   \n",
       " [6,] 2   \n",
       " [7,] 2   \n",
       " [8,] 2   \n",
       " [9,] 2   \n",
       "[10,] 1   "
      ]
     },
     "metadata": {},
     "output_type": "display_data"
    }
   ],
   "source": [
    "#valores que o modelo encontrou \n",
    "head(res.test,10)"
   ]
  },
  {
   "cell_type": "code",
   "execution_count": 76,
   "metadata": {},
   "outputs": [
    {
     "name": "stdout",
     "output_type": "stream",
     "text": [
      "The name of model:  sim-0 \n",
      "Model was trained using:  FRBCS.CHI \n",
      "The names of attributes:  Sepal.Length Sepal.Width Petal.Length Petal.Width Species \n",
      "The interval of input data:  \n",
      "    Sepal.Length Sepal.Width Petal.Length Petal.Width\n",
      "min          4.3         2.0          1.0         0.1\n",
      "max          7.9         4.4          6.9         2.5\n",
      "Type of FRBS model: \n",
      "[1] \"FRBCS\"\n",
      "Type of membership functions: \n",
      "[1] \"TRAPEZOID\"\n",
      "Type of t-norm method: \n",
      "[1] \"Standard t-norm (min)\"\n",
      "Type of s-norm method: \n",
      "[1] \"Standard s-norm\"\n",
      "Type of implication function: \n",
      "[1] \"ZADEH\"\n",
      "The names of linguistic terms on the input variables:  \n",
      " [1] \"small\"  \"medium\" \"large\"  \"small\"  \"medium\" \"large\"  \"small\"  \"medium\"\n",
      " [9] \"large\"  \"small\"  \"medium\" \"large\" \n",
      "The parameter values of membership function on the input variable (normalized):  \n",
      "     small medium large small medium large small medium large small medium\n",
      "[1,]   2.0   4.00   3.0   2.0   4.00   3.0   2.0   4.00   3.0   2.0   4.00\n",
      "[2,]   0.0   0.23   0.6   0.0   0.23   0.6   0.0   0.23   0.6   0.0   0.23\n",
      "[3,]   0.2   0.43   0.8   0.2   0.43   0.8   0.2   0.43   0.8   0.2   0.43\n",
      "[4,]   0.4   0.53   1.0   0.4   0.53   1.0   0.4   0.53   1.0   0.4   0.53\n",
      "[5,]    NA   0.73    NA    NA   0.73    NA    NA   0.73    NA    NA   0.73\n",
      "     large\n",
      "[1,]   3.0\n",
      "[2,]   0.6\n",
      "[3,]   0.8\n",
      "[4,]   1.0\n",
      "[5,]    NA\n",
      "The number of linguistic terms on each variables \n",
      "     Sepal.Length Sepal.Width Petal.Length Petal.Width Species\n",
      "[1,]            3           3            3           3       3\n",
      "The fuzzy IF-THEN rules:  \n",
      "   V1           V2 V3     V4  V5          V6 V7     V8  V9          V10 V11\n",
      "1  IF Sepal.Length is  small and Sepal.Width is medium and Petal.Length  is\n",
      "2  IF Sepal.Length is  large and Sepal.Width is medium and Petal.Length  is\n",
      "3  IF Sepal.Length is medium and Sepal.Width is  large and Petal.Length  is\n",
      "4  IF Sepal.Length is medium and Sepal.Width is medium and Petal.Length  is\n",
      "5  IF Sepal.Length is medium and Sepal.Width is medium and Petal.Length  is\n",
      "6  IF Sepal.Length is medium and Sepal.Width is  small and Petal.Length  is\n",
      "7  IF Sepal.Length is medium and Sepal.Width is  small and Petal.Length  is\n",
      "8  IF Sepal.Length is  small and Sepal.Width is  large and Petal.Length  is\n",
      "9  IF Sepal.Length is  large and Sepal.Width is  large and Petal.Length  is\n",
      "10 IF Sepal.Length is  small and Sepal.Width is  small and Petal.Length  is\n",
      "11 IF Sepal.Length is  large and Sepal.Width is medium and Petal.Length  is\n",
      "12 IF Sepal.Length is  small and Sepal.Width is medium and Petal.Length  is\n",
      "13 IF Sepal.Length is  large and Sepal.Width is medium and Petal.Length  is\n",
      "14 IF Sepal.Length is medium and Sepal.Width is  small and Petal.Length  is\n",
      "15 IF Sepal.Length is  large and Sepal.Width is medium and Petal.Length  is\n",
      "16 IF Sepal.Length is medium and Sepal.Width is medium and Petal.Length  is\n",
      "17 IF Sepal.Length is medium and Sepal.Width is  small and Petal.Length  is\n",
      "18 IF Sepal.Length is  large and Sepal.Width is  small and Petal.Length  is\n",
      "19 IF Sepal.Length is  small and Sepal.Width is  small and Petal.Length  is\n",
      "      V12 V13         V14 V15    V16  V17     V18 V19 V20\n",
      "1   small and Petal.Width  is  small THEN Species  is   1\n",
      "2   large and Petal.Width  is  large THEN Species  is   3\n",
      "3   small and Petal.Width  is  small THEN Species  is   1\n",
      "4   large and Petal.Width  is  large THEN Species  is   3\n",
      "5  medium and Petal.Width  is medium THEN Species  is   2\n",
      "6  medium and Petal.Width  is medium THEN Species  is   2\n",
      "7   large and Petal.Width  is medium THEN Species  is   3\n",
      "8   small and Petal.Width  is  small THEN Species  is   1\n",
      "9   large and Petal.Width  is  large THEN Species  is   3\n",
      "10 medium and Petal.Width  is medium THEN Species  is   2\n",
      "11  large and Petal.Width  is medium THEN Species  is   3\n",
      "12 medium and Petal.Width  is medium THEN Species  is   2\n",
      "13  large and Petal.Width  is  large THEN Species  is   2\n",
      "14  large and Petal.Width  is  large THEN Species  is   3\n",
      "15 medium and Petal.Width  is medium THEN Species  is   2\n",
      "16 medium and Petal.Width  is  large THEN Species  is   3\n",
      "17  large and Petal.Width  is medium THEN Species  is   2\n",
      "18  large and Petal.Width  is  large THEN Species  is   3\n",
      "19 medium and Petal.Width  is  large THEN Species  is   3\n",
      "The certainty factor: \n",
      "               \n",
      " [1,] 1.0000000\n",
      " [2,] 0.9333333\n",
      " [3,] 0.9333333\n",
      " [4,] 0.8722222\n",
      " [5,] 0.7944444\n",
      " [6,] 0.7686441\n",
      " [7,] 0.7500000\n",
      " [8,] 0.7500000\n",
      " [9,] 0.7500000\n",
      "[10,] 0.7250000\n",
      "[11,] 0.5250000\n",
      "[12,] 0.4722222\n",
      "[13,] 0.3333333\n",
      "[14,] 0.3898305\n",
      "[15,] 0.3333333\n",
      "[16,] 0.4296610\n",
      "[17,] 0.4745763\n",
      "[18,] 0.3333333\n",
      "[19,] 0.3333333\n"
     ]
    }
   ],
   "source": [
    "summary(mod.class)"
   ]
  },
  {
   "cell_type": "code",
   "execution_count": 77,
   "metadata": {},
   "outputs": [
    {
     "data": {
      "image/png": "[encoded data removed]",
      "text/plain": [
       "Plot with title “Petal.Width”"
      ]
     },
     "metadata": {},
     "output_type": "display_data"
    }
   ],
   "source": [
    "plotMF(mod.class)"
   ]
  },
  {
   "cell_type": "code",
   "execution_count": 78,
   "metadata": {
    "collapsed": true
   },
   "outputs": [],
   "source": [
    "err = 100*sum(real.iris!=res.test)/nrow(real.iris)"
   ]
  },
  {
   "cell_type": "code",
   "execution_count": 79,
   "metadata": {},
   "outputs": [
    {
     "name": "stdout",
     "output_type": "stream",
     "text": [
      "[1] 4.444444\n"
     ]
    }
   ],
   "source": [
    "#porcentagem de erro.....4% de erro...\n",
    "print(err)"
   ]
  },
  {
   "cell_type": "code",
   "execution_count": null,
   "metadata": {
    "collapsed": true
   },
   "outputs": [],
   "source": []
  }
 ],
 "metadata": {
  "kernelspec": {
   "display_name": "R",
   "language": "R",
   "name": "ir"
  },
  "language_info": {
   "codemirror_mode": "r",
   "file_extension": ".r",
   "mimetype": "text/x-r-source",
   "name": "R",
   "pygments_lexer": "r",
   "version": "3.4.4"
  }
 },
 "nbformat": 4,
 "nbformat_minor": 2
}
